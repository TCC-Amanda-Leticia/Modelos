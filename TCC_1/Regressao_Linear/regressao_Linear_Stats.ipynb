{
 "cells": [
  {
   "cell_type": "code",
   "execution_count": 1,
   "metadata": {},
   "outputs": [],
   "source": [
    "import numpy as np\n",
    "import pandas as pd\n",
    "import matplotlib.pyplot as plt"
   ]
  },
  {
   "cell_type": "code",
   "execution_count": 2,
   "metadata": {},
   "outputs": [],
   "source": [
    "# Lendos os dados do csv\n",
    "dados = pd.read_csv('dados.csv', sep = ';', encoding = \"ISO-8859-1\")"
   ]
  },
  {
   "cell_type": "code",
   "execution_count": 3,
   "metadata": {},
   "outputs": [
    {
     "data": {
      "text/html": [
       "<div>\n",
       "<style scoped>\n",
       "    .dataframe tbody tr th:only-of-type {\n",
       "        vertical-align: middle;\n",
       "    }\n",
       "\n",
       "    .dataframe tbody tr th {\n",
       "        vertical-align: top;\n",
       "    }\n",
       "\n",
       "    .dataframe thead th {\n",
       "        text-align: right;\n",
       "    }\n",
       "</style>\n",
       "<table border=\"1\" class=\"dataframe\">\n",
       "  <thead>\n",
       "    <tr style=\"text-align: right;\">\n",
       "      <th></th>\n",
       "      <th>IDFluxo</th>\n",
       "      <th>Status</th>\n",
       "      <th>Matriculas</th>\n",
       "      <th>Ingresso</th>\n",
       "      <th>IDDisciplina</th>\n",
       "      <th>IDEstudante</th>\n",
       "    </tr>\n",
       "  </thead>\n",
       "  <tbody>\n",
       "    <tr>\n",
       "      <th>0</th>\n",
       "      <td>ENGENHARIA AEROESPACIAL/FGA - Bacharel - Prese...</td>\n",
       "      <td>1</td>\n",
       "      <td>2</td>\n",
       "      <td>2011/1</td>\n",
       "      <td>CIC0007</td>\n",
       "      <td>27990</td>\n",
       "    </tr>\n",
       "    <tr>\n",
       "      <th>1</th>\n",
       "      <td>ENGENHARIA AEROESPACIAL/FGA - Bacharel - Prese...</td>\n",
       "      <td>1</td>\n",
       "      <td>1</td>\n",
       "      <td>2011/1</td>\n",
       "      <td>ENM0068</td>\n",
       "      <td>27990</td>\n",
       "    </tr>\n",
       "    <tr>\n",
       "      <th>2</th>\n",
       "      <td>ENGENHARIA AEROESPACIAL/FGA - Bacharel - Prese...</td>\n",
       "      <td>1</td>\n",
       "      <td>1</td>\n",
       "      <td>2011/1</td>\n",
       "      <td>ENM0071</td>\n",
       "      <td>27990</td>\n",
       "    </tr>\n",
       "    <tr>\n",
       "      <th>3</th>\n",
       "      <td>ENGENHARIA AEROESPACIAL/FGA - Bacharel - Prese...</td>\n",
       "      <td>1</td>\n",
       "      <td>1</td>\n",
       "      <td>2011/1</td>\n",
       "      <td>FGA0008</td>\n",
       "      <td>27990</td>\n",
       "    </tr>\n",
       "    <tr>\n",
       "      <th>4</th>\n",
       "      <td>ENGENHARIA AEROESPACIAL/FGA - Bacharel - Prese...</td>\n",
       "      <td>1</td>\n",
       "      <td>2</td>\n",
       "      <td>2011/1</td>\n",
       "      <td>FGA0009</td>\n",
       "      <td>27990</td>\n",
       "    </tr>\n",
       "  </tbody>\n",
       "</table>\n",
       "</div>"
      ],
      "text/plain": [
       "                                             IDFluxo  Status  Matriculas  \\\n",
       "0  ENGENHARIA AEROESPACIAL/FGA - Bacharel - Prese...       1           2   \n",
       "1  ENGENHARIA AEROESPACIAL/FGA - Bacharel - Prese...       1           1   \n",
       "2  ENGENHARIA AEROESPACIAL/FGA - Bacharel - Prese...       1           1   \n",
       "3  ENGENHARIA AEROESPACIAL/FGA - Bacharel - Prese...       1           1   \n",
       "4  ENGENHARIA AEROESPACIAL/FGA - Bacharel - Prese...       1           2   \n",
       "\n",
       "  Ingresso IDDisciplina  IDEstudante  \n",
       "0   2011/1      CIC0007        27990  \n",
       "1   2011/1      ENM0068        27990  \n",
       "2   2011/1      ENM0071        27990  \n",
       "3   2011/1      FGA0008        27990  \n",
       "4   2011/1      FGA0009        27990  "
      ]
     },
     "execution_count": 3,
     "metadata": {},
     "output_type": "execute_result"
    }
   ],
   "source": [
    "dados.head()"
   ]
  },
  {
   "cell_type": "code",
   "execution_count": 26,
   "metadata": {},
   "outputs": [],
   "source": [
    "matriculas = dados['Matriculas'].values\n",
    "status = dados['Status'].values"
   ]
  },
  {
   "cell_type": "code",
   "execution_count": 27,
   "metadata": {},
   "outputs": [
    {
     "data": {
      "image/png": "[encoded data removed]",
      "text/plain": [
       "<Figure size 432x288 with 1 Axes>"
      ]
     },
     "metadata": {
      "needs_background": "light"
     },
     "output_type": "display_data"
    }
   ],
   "source": [
    "plt.scatter(status,Y,label='status(matriculas)');\n",
    "plt.xlabel('matriculas');\n",
    "plt.ylabel('status');\n",
    "plt.legend();"
   ]
  },
  {
   "cell_type": "markdown",
   "metadata": {},
   "source": [
    "# Y = mX + c"
   ]
  },
  {
   "cell_type": "code",
   "execution_count": 19,
   "metadata": {},
   "outputs": [],
   "source": [
    "import statsmodels.api as sm"
   ]
  },
  {
   "cell_type": "code",
   "execution_count": 28,
   "metadata": {},
   "outputs": [],
   "source": [
    "modelo = sm.OLS(status, matriculas)"
   ]
  },
  {
   "cell_type": "code",
   "execution_count": 29,
   "metadata": {},
   "outputs": [],
   "source": [
    "resultado = modelo.fit()"
   ]
  },
  {
   "cell_type": "code",
   "execution_count": 30,
   "metadata": {},
   "outputs": [
    {
     "name": "stdout",
     "output_type": "stream",
     "text": [
      "                                 OLS Regression Results                                \n",
      "=======================================================================================\n",
      "Dep. Variable:                      y   R-squared (uncentered):                   0.682\n",
      "Model:                            OLS   Adj. R-squared (uncentered):              0.682\n",
      "Method:                 Least Squares   F-statistic:                          1.992e+05\n",
      "Date:                Wed, 06 Apr 2022   Prob (F-statistic):                        0.00\n",
      "Time:                        11:55:54   Log-Likelihood:                     -1.6259e+05\n",
      "No. Observations:               92932   AIC:                                  3.252e+05\n",
      "Df Residuals:                   92931   BIC:                                  3.252e+05\n",
      "Df Model:                           1                                                  \n",
      "Covariance Type:            nonrobust                                                  \n",
      "==============================================================================\n",
      "                 coef    std err          t      P>|t|      [0.025      0.975]\n",
      "------------------------------------------------------------------------------\n",
      "x1             1.5998      0.004    446.342      0.000       1.593       1.607\n",
      "==============================================================================\n",
      "Omnibus:                     7121.584   Durbin-Watson:                   0.562\n",
      "Prob(Omnibus):                  0.000   Jarque-Bera (JB):            27906.959\n",
      "Skew:                           0.309   Prob(JB):                         0.00\n",
      "Kurtosis:                       5.613   Cond. No.                         1.00\n",
      "==============================================================================\n",
      "\n",
      "Notes:\n",
      "[1] R² is computed without centering (uncentered) since the model does not contain a constant.\n",
      "[2] Standard Errors assume that the covariance matrix of the errors is correctly specified.\n"
     ]
    }
   ],
   "source": [
    "print(resultado.summary())"
   ]
  },
  {
   "cell_type": "code",
   "execution_count": 31,
   "metadata": {},
   "outputs": [],
   "source": [
    "# coenfieinte de interceção\n",
    "\n",
    "matriculas = sm.add_constant(matriculas)"
   ]
  },
  {
   "cell_type": "code",
   "execution_count": 32,
   "metadata": {},
   "outputs": [],
   "source": [
    "modelo2 = sm.OLS(status, matriculas)"
   ]
  },
  {
   "cell_type": "code",
   "execution_count": 33,
   "metadata": {},
   "outputs": [],
   "source": [
    "resultado2 = modelo2.fit()"
   ]
  },
  {
   "cell_type": "code",
   "execution_count": 34,
   "metadata": {},
   "outputs": [
    {
     "name": "stdout",
     "output_type": "stream",
     "text": [
      "                            OLS Regression Results                            \n",
      "==============================================================================\n",
      "Dep. Variable:                      y   R-squared:                       0.000\n",
      "Model:                            OLS   Adj. R-squared:                  0.000\n",
      "Method:                 Least Squares   F-statistic:                     43.49\n",
      "Date:                Wed, 06 Apr 2022   Prob (F-statistic):           4.28e-11\n",
      "Time:                        11:57:54   Log-Likelihood:            -1.4273e+05\n",
      "No. Observations:               92932   AIC:                         2.855e+05\n",
      "Df Residuals:                   92930   BIC:                         2.855e+05\n",
      "Df Model:                           1                                         \n",
      "Covariance Type:            nonrobust                                         \n",
      "==============================================================================\n",
      "                 coef    std err          t      P>|t|      [0.025      0.975]\n",
      "------------------------------------------------------------------------------\n",
      "const          2.1384      0.010    222.651      0.000       2.120       2.157\n",
      "x1             0.0497      0.008      6.595      0.000       0.035       0.064\n",
      "==============================================================================\n",
      "Omnibus:                    27302.880   Durbin-Watson:                   0.019\n",
      "Prob(Omnibus):                  0.000   Jarque-Bera (JB):            61965.609\n",
      "Skew:                           1.716   Prob(JB):                         0.00\n",
      "Kurtosis:                       5.055   Cond. No.                         5.17\n",
      "==============================================================================\n",
      "\n",
      "Notes:\n",
      "[1] Standard Errors assume that the covariance matrix of the errors is correctly specified.\n"
     ]
    }
   ],
   "source": [
    "print(resultado2.summary())"
   ]
  },
  {
   "cell_type": "code",
   "execution_count": 35,
   "metadata": {},
   "outputs": [],
   "source": [
    "coef_linear, coef_angular = resultado2.params"
   ]
  },
  {
   "cell_type": "code",
   "execution_count": 53,
   "metadata": {},
   "outputs": [],
   "source": [
    "reta = coef_angular*matriculas+coef_linear"
   ]
  },
  {
   "cell_type": "code",
   "execution_count": 54,
   "metadata": {},
   "outputs": [
    {
     "name": "stdout",
     "output_type": "stream",
     "text": [
      "0\n",
      "2.1881644380316896\n"
     ]
    }
   ],
   "source": [
    "print(len(matriculas.shape))\n",
    "print(reta)"
   ]
  }
 ],
 "metadata": {
  "interpreter": {
   "hash": "02a3d5952ba6cf525d57292f037615cfbe153d4c5818be9f157fad1b017fd4d3"
  },
  "kernelspec": {
   "display_name": "Python 3.9.7 ('base')",
   "language": "python",
   "name": "python3"
  },
  "language_info": {
   "codemirror_mode": {
    "name": "ipython",
    "version": 3
   },
   "file_extension": ".py",
   "mimetype": "text/x-python",
   "name": "python",
   "nbconvert_exporter": "python",
   "pygments_lexer": "ipython3",
   "version": "3.9.7"
  },
  "orig_nbformat": 4
 },
 "nbformat": 4,
 "nbformat_minor": 2
}

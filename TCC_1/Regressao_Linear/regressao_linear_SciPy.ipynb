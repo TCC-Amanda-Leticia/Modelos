{
 "cells": [
  {
   "cell_type": "code",
   "execution_count": 19,
   "metadata": {},
   "outputs": [],
   "source": [
    "import pandas as pd\n",
    "import numpy as np\n",
    "import matplotlib.pyplot as plt\n",
    "from scipy.stats import linregress\n",
    "from sklearn.metrics import mean_absolute_error,mean_squared_error"
   ]
  },
  {
   "cell_type": "code",
   "execution_count": 3,
   "metadata": {},
   "outputs": [],
   "source": [
    "# Lendos os dados do csv\n",
    "dados = pd.read_csv('dados.csv', sep = ';', encoding = \"ISO-8859-1\")"
   ]
  },
  {
   "cell_type": "code",
   "execution_count": 4,
   "metadata": {},
   "outputs": [
    {
     "data": {
      "text/html": [
       "<div>\n",
       "<style scoped>\n",
       "    .dataframe tbody tr th:only-of-type {\n",
       "        vertical-align: middle;\n",
       "    }\n",
       "\n",
       "    .dataframe tbody tr th {\n",
       "        vertical-align: top;\n",
       "    }\n",
       "\n",
       "    .dataframe thead th {\n",
       "        text-align: right;\n",
       "    }\n",
       "</style>\n",
       "<table border=\"1\" class=\"dataframe\">\n",
       "  <thead>\n",
       "    <tr style=\"text-align: right;\">\n",
       "      <th></th>\n",
       "      <th>IDFluxo</th>\n",
       "      <th>Status</th>\n",
       "      <th>Matriculas</th>\n",
       "      <th>Ingresso</th>\n",
       "      <th>IDDisciplina</th>\n",
       "      <th>IDEstudante</th>\n",
       "    </tr>\n",
       "  </thead>\n",
       "  <tbody>\n",
       "    <tr>\n",
       "      <th>0</th>\n",
       "      <td>ENGENHARIA AEROESPACIAL/FGA - Bacharel - Prese...</td>\n",
       "      <td>1</td>\n",
       "      <td>2</td>\n",
       "      <td>2011/1</td>\n",
       "      <td>CIC0007</td>\n",
       "      <td>27990</td>\n",
       "    </tr>\n",
       "    <tr>\n",
       "      <th>1</th>\n",
       "      <td>ENGENHARIA AEROESPACIAL/FGA - Bacharel - Prese...</td>\n",
       "      <td>1</td>\n",
       "      <td>1</td>\n",
       "      <td>2011/1</td>\n",
       "      <td>ENM0068</td>\n",
       "      <td>27990</td>\n",
       "    </tr>\n",
       "    <tr>\n",
       "      <th>2</th>\n",
       "      <td>ENGENHARIA AEROESPACIAL/FGA - Bacharel - Prese...</td>\n",
       "      <td>1</td>\n",
       "      <td>1</td>\n",
       "      <td>2011/1</td>\n",
       "      <td>ENM0071</td>\n",
       "      <td>27990</td>\n",
       "    </tr>\n",
       "    <tr>\n",
       "      <th>3</th>\n",
       "      <td>ENGENHARIA AEROESPACIAL/FGA - Bacharel - Prese...</td>\n",
       "      <td>1</td>\n",
       "      <td>1</td>\n",
       "      <td>2011/1</td>\n",
       "      <td>FGA0008</td>\n",
       "      <td>27990</td>\n",
       "    </tr>\n",
       "    <tr>\n",
       "      <th>4</th>\n",
       "      <td>ENGENHARIA AEROESPACIAL/FGA - Bacharel - Prese...</td>\n",
       "      <td>1</td>\n",
       "      <td>2</td>\n",
       "      <td>2011/1</td>\n",
       "      <td>FGA0009</td>\n",
       "      <td>27990</td>\n",
       "    </tr>\n",
       "  </tbody>\n",
       "</table>\n",
       "</div>"
      ],
      "text/plain": [
       "                                             IDFluxo  Status  Matriculas  \\\n",
       "0  ENGENHARIA AEROESPACIAL/FGA - Bacharel - Prese...       1           2   \n",
       "1  ENGENHARIA AEROESPACIAL/FGA - Bacharel - Prese...       1           1   \n",
       "2  ENGENHARIA AEROESPACIAL/FGA - Bacharel - Prese...       1           1   \n",
       "3  ENGENHARIA AEROESPACIAL/FGA - Bacharel - Prese...       1           1   \n",
       "4  ENGENHARIA AEROESPACIAL/FGA - Bacharel - Prese...       1           2   \n",
       "\n",
       "  Ingresso IDDisciplina  IDEstudante  \n",
       "0   2011/1      CIC0007        27990  \n",
       "1   2011/1      ENM0068        27990  \n",
       "2   2011/1      ENM0071        27990  \n",
       "3   2011/1      FGA0008        27990  \n",
       "4   2011/1      FGA0009        27990  "
      ]
     },
     "execution_count": 4,
     "metadata": {},
     "output_type": "execute_result"
    }
   ],
   "source": [
    "dados.head()"
   ]
  },
  {
   "cell_type": "code",
   "execution_count": 8,
   "metadata": {},
   "outputs": [],
   "source": [
    "matriculas = dados['Matriculas'].values\n",
    "status = dados['Status'].values"
   ]
  },
  {
   "cell_type": "code",
   "execution_count": 10,
   "metadata": {},
   "outputs": [
    {
     "data": {
      "image/png": "[encoded data removed]",
      "text/plain": [
       "<Figure size 432x288 with 1 Axes>"
      ]
     },
     "metadata": {
      "needs_background": "light"
     },
     "output_type": "display_data"
    }
   ],
   "source": [
    "plt.scatter(status,matriculas,label='status(matriculas)');\n",
    "plt.xlabel('matriculas');\n",
    "plt.ylabel('status');\n",
    "plt.legend();"
   ]
  },
  {
   "cell_type": "code",
   "execution_count": 11,
   "metadata": {},
   "outputs": [],
   "source": [
    "coef_angular, coef_linear,_,_,std_err = linregress(matriculas, status)"
   ]
  },
  {
   "cell_type": "code",
   "execution_count": 12,
   "metadata": {},
   "outputs": [
    {
     "name": "stdout",
     "output_type": "stream",
     "text": [
      "Coeficiente angular = 0.05\n"
     ]
    }
   ],
   "source": [
    "print(\"Coeficiente angular = {:0.2f}\".format(coef_angular))"
   ]
  },
  {
   "cell_type": "code",
   "execution_count": 13,
   "metadata": {},
   "outputs": [
    {
     "name": "stdout",
     "output_type": "stream",
     "text": [
      "Coeficiente linear = 2.14\n"
     ]
    }
   ],
   "source": [
    "print(\"Coeficiente linear = {:0.2f}\".format(coef_linear))"
   ]
  },
  {
   "cell_type": "code",
   "execution_count": 14,
   "metadata": {},
   "outputs": [
    {
     "name": "stdout",
     "output_type": "stream",
     "text": [
      "Desvio padrão = 0.01\n"
     ]
    }
   ],
   "source": [
    "print(\"Desvio padrão = {:0.2f}\".format(std_err))"
   ]
  },
  {
   "cell_type": "code",
   "execution_count": 15,
   "metadata": {},
   "outputs": [],
   "source": [
    "reta = coef_angular*matriculas+coef_linear"
   ]
  },
  {
   "cell_type": "code",
   "execution_count": 18,
   "metadata": {},
   "outputs": [
    {
     "data": {
      "image/png": "[encoded data removed]",
      "text/plain": [
       "<Figure size 432x288 with 1 Axes>"
      ]
     },
     "metadata": {
      "needs_background": "light"
     },
     "output_type": "display_data"
    }
   ],
   "source": [
    "plt.scatter(matriculas,status,label='Status(Matrícula)');\n",
    "plt.plot(matriculas,reta,label='Ajuste linear',color='red');\n",
    "plt.xlabel('matricula');\n",
    "plt.ylabel('status');\n",
    "plt.legend();"
   ]
  },
  {
   "cell_type": "code",
   "execution_count": 20,
   "metadata": {},
   "outputs": [
    {
     "name": "stdout",
     "output_type": "stream",
     "text": [
      "MAE = 0.70\n",
      "RMSE = 1.12\n"
     ]
    }
   ],
   "source": [
    "\n",
    "MAE = mean_absolute_error(status,reta)\n",
    "RMSE = np.sqrt(mean_squared_error(status,reta))\n",
    "\n",
    "print(\"MAE = {:0.2f}\".format(MAE))\n",
    "print(\"RMSE = {:0.2f}\".format(RMSE))"
   ]
  }
 ],
 "metadata": {
  "interpreter": {
   "hash": "02a3d5952ba6cf525d57292f037615cfbe153d4c5818be9f157fad1b017fd4d3"
  },
  "kernelspec": {
   "display_name": "Python 3.9.7 ('base')",
   "language": "python",
   "name": "python3"
  },
  "language_info": {
   "codemirror_mode": {
    "name": "ipython",
    "version": 3
   },
   "file_extension": ".py",
   "mimetype": "text/x-python",
   "name": "python",
   "nbconvert_exporter": "python",
   "pygments_lexer": "ipython3",
   "version": "3.9.7"
  },
  "orig_nbformat": 4
 },
 "nbformat": 4,
 "nbformat_minor": 2
}

{
 "cells": [
  {
   "cell_type": "code",
   "execution_count": 160,
   "metadata": {},
   "outputs": [],
   "source": [
    "import pandas as pd\n",
    "import numpy as np\n",
    "import matplotlib.pyplot as plt\n",
    "from sklearn.tree import DecisionTreeClassifier\n",
    "from sklearn.tree import plot_tree\n",
    "from sklearn.model_selection import train_test_split\n",
    "from sklearn.model_selection import cross_val_score\n",
    "from sklearn.metrics import confusion_matrix\n",
    "from sklearn.metrics import plot_confusion_matrix\n",
    "from sklearn.metrics import classification_report"
   ]
  },
  {
   "cell_type": "code",
   "execution_count": 161,
   "metadata": {},
   "outputs": [],
   "source": [
    "from rpy2.robjects.packages import importr\n",
    "from rpy2 import robjects\n",
    "C50 = importr('C50')    \n",
    "C5_0 = robjects.r('C5.0')"
   ]
  },
  {
   "cell_type": "code",
   "execution_count": 162,
   "metadata": {},
   "outputs": [],
   "source": [
    "df = pd.read_csv('dados.csv', sep = ';', encoding = \"ISO-8859-1\")"
   ]
  },
  {
   "cell_type": "code",
   "execution_count": 163,
   "metadata": {},
   "outputs": [
    {
     "data": {
      "text/html": [
       "<div>\n",
       "<style scoped>\n",
       "    .dataframe tbody tr th:only-of-type {\n",
       "        vertical-align: middle;\n",
       "    }\n",
       "\n",
       "    .dataframe tbody tr th {\n",
       "        vertical-align: top;\n",
       "    }\n",
       "\n",
       "    .dataframe thead th {\n",
       "        text-align: right;\n",
       "    }\n",
       "</style>\n",
       "<table border=\"1\" class=\"dataframe\">\n",
       "  <thead>\n",
       "    <tr style=\"text-align: right;\">\n",
       "      <th></th>\n",
       "      <th>IDFluxo</th>\n",
       "      <th>Status</th>\n",
       "      <th>Matriculas</th>\n",
       "      <th>Ingresso</th>\n",
       "      <th>IDDisciplina</th>\n",
       "      <th>IDEstudante</th>\n",
       "    </tr>\n",
       "  </thead>\n",
       "  <tbody>\n",
       "    <tr>\n",
       "      <th>0</th>\n",
       "      <td>ENGENHARIA AEROESPACIAL/FGA - Bacharel - Prese...</td>\n",
       "      <td>1</td>\n",
       "      <td>2</td>\n",
       "      <td>2011/1</td>\n",
       "      <td>CIC0007</td>\n",
       "      <td>27990</td>\n",
       "    </tr>\n",
       "    <tr>\n",
       "      <th>1</th>\n",
       "      <td>ENGENHARIA AEROESPACIAL/FGA - Bacharel - Prese...</td>\n",
       "      <td>1</td>\n",
       "      <td>1</td>\n",
       "      <td>2011/1</td>\n",
       "      <td>ENM0068</td>\n",
       "      <td>27990</td>\n",
       "    </tr>\n",
       "    <tr>\n",
       "      <th>2</th>\n",
       "      <td>ENGENHARIA AEROESPACIAL/FGA - Bacharel - Prese...</td>\n",
       "      <td>1</td>\n",
       "      <td>1</td>\n",
       "      <td>2011/1</td>\n",
       "      <td>ENM0071</td>\n",
       "      <td>27990</td>\n",
       "    </tr>\n",
       "    <tr>\n",
       "      <th>3</th>\n",
       "      <td>ENGENHARIA AEROESPACIAL/FGA - Bacharel - Prese...</td>\n",
       "      <td>1</td>\n",
       "      <td>1</td>\n",
       "      <td>2011/1</td>\n",
       "      <td>FGA0008</td>\n",
       "      <td>27990</td>\n",
       "    </tr>\n",
       "    <tr>\n",
       "      <th>4</th>\n",
       "      <td>ENGENHARIA AEROESPACIAL/FGA - Bacharel - Prese...</td>\n",
       "      <td>1</td>\n",
       "      <td>2</td>\n",
       "      <td>2011/1</td>\n",
       "      <td>FGA0009</td>\n",
       "      <td>27990</td>\n",
       "    </tr>\n",
       "  </tbody>\n",
       "</table>\n",
       "</div>"
      ],
      "text/plain": [
       "                                             IDFluxo  Status  Matriculas  \\\n",
       "0  ENGENHARIA AEROESPACIAL/FGA - Bacharel - Prese...       1           2   \n",
       "1  ENGENHARIA AEROESPACIAL/FGA - Bacharel - Prese...       1           1   \n",
       "2  ENGENHARIA AEROESPACIAL/FGA - Bacharel - Prese...       1           1   \n",
       "3  ENGENHARIA AEROESPACIAL/FGA - Bacharel - Prese...       1           1   \n",
       "4  ENGENHARIA AEROESPACIAL/FGA - Bacharel - Prese...       1           2   \n",
       "\n",
       "  Ingresso IDDisciplina  IDEstudante  \n",
       "0   2011/1      CIC0007        27990  \n",
       "1   2011/1      ENM0068        27990  \n",
       "2   2011/1      ENM0071        27990  \n",
       "3   2011/1      FGA0008        27990  \n",
       "4   2011/1      FGA0009        27990  "
      ]
     },
     "execution_count": 163,
     "metadata": {},
     "output_type": "execute_result"
    }
   ],
   "source": [
    "df.head()"
   ]
  },
  {
   "cell_type": "code",
   "execution_count": 164,
   "metadata": {},
   "outputs": [],
   "source": [
    "df_fluxos = pd.read_csv('fluxos.csv', sep = ';', encoding = \"ISO-8859-1\")"
   ]
  },
  {
   "cell_type": "code",
   "execution_count": 165,
   "metadata": {},
   "outputs": [
    {
     "data": {
      "text/html": [
       "<div>\n",
       "<style scoped>\n",
       "    .dataframe tbody tr th:only-of-type {\n",
       "        vertical-align: middle;\n",
       "    }\n",
       "\n",
       "    .dataframe tbody tr th {\n",
       "        vertical-align: top;\n",
       "    }\n",
       "\n",
       "    .dataframe thead th {\n",
       "        text-align: right;\n",
       "    }\n",
       "</style>\n",
       "<table border=\"1\" class=\"dataframe\">\n",
       "  <thead>\n",
       "    <tr style=\"text-align: right;\">\n",
       "      <th></th>\n",
       "      <th>Abrev</th>\n",
       "      <th>IDFluxo</th>\n",
       "      <th>Periodo</th>\n",
       "      <th>Natureza</th>\n",
       "      <th>IDDisciplina</th>\n",
       "    </tr>\n",
       "  </thead>\n",
       "  <tbody>\n",
       "    <tr>\n",
       "      <th>0</th>\n",
       "      <td>AEROESPACIAL</td>\n",
       "      <td>ENGENHARIA AEROESPACIAL/FGA - Bacharel - Prese...</td>\n",
       "      <td>1</td>\n",
       "      <td>Obrigatória</td>\n",
       "      <td>FGA0161</td>\n",
       "    </tr>\n",
       "    <tr>\n",
       "      <th>1</th>\n",
       "      <td>AEROESPACIAL</td>\n",
       "      <td>ENGENHARIA AEROESPACIAL/FGA - Bacharel - Prese...</td>\n",
       "      <td>1</td>\n",
       "      <td>Obrigatória</td>\n",
       "      <td>FGA0162</td>\n",
       "    </tr>\n",
       "    <tr>\n",
       "      <th>2</th>\n",
       "      <td>AEROESPACIAL</td>\n",
       "      <td>ENGENHARIA AEROESPACIAL/FGA - Bacharel - Prese...</td>\n",
       "      <td>1</td>\n",
       "      <td>Obrigatória</td>\n",
       "      <td>FGA0168</td>\n",
       "    </tr>\n",
       "    <tr>\n",
       "      <th>3</th>\n",
       "      <td>AEROESPACIAL</td>\n",
       "      <td>ENGENHARIA AEROESPACIAL/FGA - Bacharel - Prese...</td>\n",
       "      <td>1</td>\n",
       "      <td>Obrigatória</td>\n",
       "      <td>MAT0024</td>\n",
       "    </tr>\n",
       "    <tr>\n",
       "      <th>4</th>\n",
       "      <td>AEROESPACIAL</td>\n",
       "      <td>ENGENHARIA AEROESPACIAL/FGA - Bacharel - Prese...</td>\n",
       "      <td>1</td>\n",
       "      <td>Obrigatória</td>\n",
       "      <td>MAT0030</td>\n",
       "    </tr>\n",
       "  </tbody>\n",
       "</table>\n",
       "</div>"
      ],
      "text/plain": [
       "          Abrev                                            IDFluxo  Periodo  \\\n",
       "0  AEROESPACIAL  ENGENHARIA AEROESPACIAL/FGA - Bacharel - Prese...        1   \n",
       "1  AEROESPACIAL  ENGENHARIA AEROESPACIAL/FGA - Bacharel - Prese...        1   \n",
       "2  AEROESPACIAL  ENGENHARIA AEROESPACIAL/FGA - Bacharel - Prese...        1   \n",
       "3  AEROESPACIAL  ENGENHARIA AEROESPACIAL/FGA - Bacharel - Prese...        1   \n",
       "4  AEROESPACIAL  ENGENHARIA AEROESPACIAL/FGA - Bacharel - Prese...        1   \n",
       "\n",
       "      Natureza IDDisciplina  \n",
       "0  Obrigatória      FGA0161  \n",
       "1  Obrigatória      FGA0162  \n",
       "2  Obrigatória      FGA0168  \n",
       "3  Obrigatória      MAT0024  \n",
       "4  Obrigatória      MAT0030  "
      ]
     },
     "execution_count": 165,
     "metadata": {},
     "output_type": "execute_result"
    }
   ],
   "source": [
    "df_fluxos.head()"
   ]
  },
  {
   "cell_type": "code",
   "execution_count": 166,
   "metadata": {},
   "outputs": [
    {
     "data": {
      "text/plain": [
       "IDFluxo         object\n",
       "Status           int64\n",
       "Matriculas       int64\n",
       "Ingresso        object\n",
       "IDDisciplina    object\n",
       "IDEstudante      int64\n",
       "dtype: object"
      ]
     },
     "execution_count": 166,
     "metadata": {},
     "output_type": "execute_result"
    }
   ],
   "source": [
    "df.dtypes"
   ]
  },
  {
   "cell_type": "code",
   "execution_count": 167,
   "metadata": {},
   "outputs": [
    {
     "data": {
      "text/plain": [
       "Abrev           object\n",
       "IDFluxo         object\n",
       "Periodo          int64\n",
       "Natureza        object\n",
       "IDDisciplina    object\n",
       "dtype: object"
      ]
     },
     "execution_count": 167,
     "metadata": {},
     "output_type": "execute_result"
    }
   ],
   "source": [
    "df_fluxos.dtypes"
   ]
  },
  {
   "cell_type": "code",
   "execution_count": 168,
   "metadata": {},
   "outputs": [
    {
     "name": "stdout",
     "output_type": "stream",
     "text": [
      "<class 'pandas.core.frame.DataFrame'>\n",
      "RangeIndex: 92932 entries, 0 to 92931\n",
      "Data columns (total 6 columns):\n",
      " #   Column        Non-Null Count  Dtype \n",
      "---  ------        --------------  ----- \n",
      " 0   IDFluxo       92932 non-null  object\n",
      " 1   Status        92932 non-null  int64 \n",
      " 2   Matriculas    92932 non-null  int64 \n",
      " 3   Ingresso      92867 non-null  object\n",
      " 4   IDDisciplina  92932 non-null  object\n",
      " 5   IDEstudante   92932 non-null  int64 \n",
      "dtypes: int64(3), object(3)\n",
      "memory usage: 4.3+ MB\n"
     ]
    }
   ],
   "source": [
    "df.info()"
   ]
  },
  {
   "cell_type": "code",
   "execution_count": 169,
   "metadata": {},
   "outputs": [
    {
     "name": "stdout",
     "output_type": "stream",
     "text": [
      "<class 'pandas.core.frame.DataFrame'>\n",
      "RangeIndex: 3403 entries, 0 to 3402\n",
      "Data columns (total 5 columns):\n",
      " #   Column        Non-Null Count  Dtype \n",
      "---  ------        --------------  ----- \n",
      " 0   Abrev         3403 non-null   object\n",
      " 1   IDFluxo       3403 non-null   object\n",
      " 2   Periodo       3403 non-null   int64 \n",
      " 3   Natureza      3403 non-null   object\n",
      " 4   IDDisciplina  3403 non-null   object\n",
      "dtypes: int64(1), object(4)\n",
      "memory usage: 133.1+ KB\n"
     ]
    }
   ],
   "source": [
    "df_fluxos.info()"
   ]
  },
  {
   "cell_type": "code",
   "execution_count": 170,
   "metadata": {},
   "outputs": [
    {
     "data": {
      "text/plain": [
       "3.128726812249089"
      ]
     },
     "execution_count": 170,
     "metadata": {},
     "output_type": "execute_result"
    }
   ],
   "source": [
    "elements,counts = np.unique(df['IDFluxo'],return_counts = True)\n",
    "entropy = np.sum([(-counts[i]/np.sum(counts))*np.log2(counts[i]/np.sum(counts)) for i in range(len(elements))])\n",
    "entropy"
   ]
  },
  {
   "cell_type": "code",
   "execution_count": 171,
   "metadata": {},
   "outputs": [
    {
     "data": {
      "text/html": [
       "<div>\n",
       "<style scoped>\n",
       "    .dataframe tbody tr th:only-of-type {\n",
       "        vertical-align: middle;\n",
       "    }\n",
       "\n",
       "    .dataframe tbody tr th {\n",
       "        vertical-align: top;\n",
       "    }\n",
       "\n",
       "    .dataframe thead th {\n",
       "        text-align: right;\n",
       "    }\n",
       "</style>\n",
       "<table border=\"1\" class=\"dataframe\">\n",
       "  <thead>\n",
       "    <tr style=\"text-align: right;\">\n",
       "      <th></th>\n",
       "      <th>IDFluxo</th>\n",
       "      <th>Status</th>\n",
       "      <th>Matriculas</th>\n",
       "      <th>Ingresso</th>\n",
       "      <th>IDDisciplina</th>\n",
       "      <th>IDEstudante</th>\n",
       "    </tr>\n",
       "  </thead>\n",
       "  <tbody>\n",
       "    <tr>\n",
       "      <th>0</th>\n",
       "      <td>ENGENHARIA AEROESPACIAL/FGA - Bacharel - Prese...</td>\n",
       "      <td>1</td>\n",
       "      <td>2</td>\n",
       "      <td>2011/1</td>\n",
       "      <td>CIC0007</td>\n",
       "      <td>27990</td>\n",
       "    </tr>\n",
       "    <tr>\n",
       "      <th>1</th>\n",
       "      <td>ENGENHARIA AEROESPACIAL/FGA - Bacharel - Prese...</td>\n",
       "      <td>1</td>\n",
       "      <td>1</td>\n",
       "      <td>2011/1</td>\n",
       "      <td>ENM0068</td>\n",
       "      <td>27990</td>\n",
       "    </tr>\n",
       "    <tr>\n",
       "      <th>2</th>\n",
       "      <td>ENGENHARIA AEROESPACIAL/FGA - Bacharel - Prese...</td>\n",
       "      <td>1</td>\n",
       "      <td>1</td>\n",
       "      <td>2011/1</td>\n",
       "      <td>ENM0071</td>\n",
       "      <td>27990</td>\n",
       "    </tr>\n",
       "    <tr>\n",
       "      <th>3</th>\n",
       "      <td>ENGENHARIA AEROESPACIAL/FGA - Bacharel - Prese...</td>\n",
       "      <td>1</td>\n",
       "      <td>1</td>\n",
       "      <td>2011/1</td>\n",
       "      <td>FGA0008</td>\n",
       "      <td>27990</td>\n",
       "    </tr>\n",
       "    <tr>\n",
       "      <th>4</th>\n",
       "      <td>ENGENHARIA AEROESPACIAL/FGA - Bacharel - Prese...</td>\n",
       "      <td>1</td>\n",
       "      <td>2</td>\n",
       "      <td>2011/1</td>\n",
       "      <td>FGA0009</td>\n",
       "      <td>27990</td>\n",
       "    </tr>\n",
       "  </tbody>\n",
       "</table>\n",
       "</div>"
      ],
      "text/plain": [
       "                                             IDFluxo  Status  Matriculas  \\\n",
       "0  ENGENHARIA AEROESPACIAL/FGA - Bacharel - Prese...       1           2   \n",
       "1  ENGENHARIA AEROESPACIAL/FGA - Bacharel - Prese...       1           1   \n",
       "2  ENGENHARIA AEROESPACIAL/FGA - Bacharel - Prese...       1           1   \n",
       "3  ENGENHARIA AEROESPACIAL/FGA - Bacharel - Prese...       1           1   \n",
       "4  ENGENHARIA AEROESPACIAL/FGA - Bacharel - Prese...       1           2   \n",
       "\n",
       "  Ingresso IDDisciplina  IDEstudante  \n",
       "0   2011/1      CIC0007        27990  \n",
       "1   2011/1      ENM0068        27990  \n",
       "2   2011/1      ENM0071        27990  \n",
       "3   2011/1      FGA0008        27990  \n",
       "4   2011/1      FGA0009        27990  "
      ]
     },
     "execution_count": 171,
     "metadata": {},
     "output_type": "execute_result"
    }
   ],
   "source": [
    "anosAntigos = [\"2009/2\", \"2010/2\", \"2011/1\", \"2011/2\"]\n",
    "df_anosAntigos = df[df.Ingresso.isin(anosAntigos)]\n",
    "df_anosAntigos.head()"
   ]
  },
  {
   "cell_type": "code",
   "execution_count": 172,
   "metadata": {},
   "outputs": [
    {
     "data": {
      "text/html": [
       "<div>\n",
       "<style scoped>\n",
       "    .dataframe tbody tr th:only-of-type {\n",
       "        vertical-align: middle;\n",
       "    }\n",
       "\n",
       "    .dataframe tbody tr th {\n",
       "        vertical-align: top;\n",
       "    }\n",
       "\n",
       "    .dataframe thead th {\n",
       "        text-align: right;\n",
       "    }\n",
       "</style>\n",
       "<table border=\"1\" class=\"dataframe\">\n",
       "  <thead>\n",
       "    <tr style=\"text-align: right;\">\n",
       "      <th></th>\n",
       "      <th>IDFluxo</th>\n",
       "      <th>Status</th>\n",
       "      <th>Matriculas</th>\n",
       "      <th>Ingresso</th>\n",
       "      <th>IDDisciplina</th>\n",
       "      <th>IDEstudante</th>\n",
       "    </tr>\n",
       "  </thead>\n",
       "  <tbody>\n",
       "    <tr>\n",
       "      <th>121</th>\n",
       "      <td>ENGENHARIA AEROESPACIAL/FGA - Bacharel - Prese...</td>\n",
       "      <td>1</td>\n",
       "      <td>1</td>\n",
       "      <td>2012/1</td>\n",
       "      <td>CIC0007</td>\n",
       "      <td>27760</td>\n",
       "    </tr>\n",
       "    <tr>\n",
       "      <th>122</th>\n",
       "      <td>ENGENHARIA AEROESPACIAL/FGA - Bacharel - Prese...</td>\n",
       "      <td>1</td>\n",
       "      <td>1</td>\n",
       "      <td>2012/1</td>\n",
       "      <td>ENM0068</td>\n",
       "      <td>27760</td>\n",
       "    </tr>\n",
       "    <tr>\n",
       "      <th>123</th>\n",
       "      <td>ENGENHARIA AEROESPACIAL/FGA - Bacharel - Prese...</td>\n",
       "      <td>1</td>\n",
       "      <td>1</td>\n",
       "      <td>2012/1</td>\n",
       "      <td>ENM0071</td>\n",
       "      <td>27760</td>\n",
       "    </tr>\n",
       "    <tr>\n",
       "      <th>124</th>\n",
       "      <td>ENGENHARIA AEROESPACIAL/FGA - Bacharel - Prese...</td>\n",
       "      <td>1</td>\n",
       "      <td>1</td>\n",
       "      <td>2012/1</td>\n",
       "      <td>ENM0080</td>\n",
       "      <td>27760</td>\n",
       "    </tr>\n",
       "    <tr>\n",
       "      <th>125</th>\n",
       "      <td>ENGENHARIA AEROESPACIAL/FGA - Bacharel - Prese...</td>\n",
       "      <td>1</td>\n",
       "      <td>1</td>\n",
       "      <td>2012/1</td>\n",
       "      <td>FGA0008</td>\n",
       "      <td>27760</td>\n",
       "    </tr>\n",
       "  </tbody>\n",
       "</table>\n",
       "</div>"
      ],
      "text/plain": [
       "                                               IDFluxo  Status  Matriculas  \\\n",
       "121  ENGENHARIA AEROESPACIAL/FGA - Bacharel - Prese...       1           1   \n",
       "122  ENGENHARIA AEROESPACIAL/FGA - Bacharel - Prese...       1           1   \n",
       "123  ENGENHARIA AEROESPACIAL/FGA - Bacharel - Prese...       1           1   \n",
       "124  ENGENHARIA AEROESPACIAL/FGA - Bacharel - Prese...       1           1   \n",
       "125  ENGENHARIA AEROESPACIAL/FGA - Bacharel - Prese...       1           1   \n",
       "\n",
       "    Ingresso IDDisciplina  IDEstudante  \n",
       "121   2012/1      CIC0007        27760  \n",
       "122   2012/1      ENM0068        27760  \n",
       "123   2012/1      ENM0071        27760  \n",
       "124   2012/1      ENM0080        27760  \n",
       "125   2012/1      FGA0008        27760  "
      ]
     },
     "execution_count": 172,
     "metadata": {},
     "output_type": "execute_result"
    }
   ],
   "source": [
    "anoDoze = [\"2012/1\", \"2012/2\"]\n",
    "df_anoDoze = df[df.Ingresso.isin(anoDoze)]\n",
    "df_anoDoze.head()"
   ]
  },
  {
   "cell_type": "code",
   "execution_count": 173,
   "metadata": {},
   "outputs": [
    {
     "data": {
      "text/html": [
       "<div>\n",
       "<style scoped>\n",
       "    .dataframe tbody tr th:only-of-type {\n",
       "        vertical-align: middle;\n",
       "    }\n",
       "\n",
       "    .dataframe tbody tr th {\n",
       "        vertical-align: top;\n",
       "    }\n",
       "\n",
       "    .dataframe thead th {\n",
       "        text-align: right;\n",
       "    }\n",
       "</style>\n",
       "<table border=\"1\" class=\"dataframe\">\n",
       "  <thead>\n",
       "    <tr style=\"text-align: right;\">\n",
       "      <th></th>\n",
       "      <th>IDFluxo</th>\n",
       "      <th>Status</th>\n",
       "      <th>Matriculas</th>\n",
       "      <th>Ingresso</th>\n",
       "      <th>IDDisciplina</th>\n",
       "      <th>IDEstudante</th>\n",
       "    </tr>\n",
       "  </thead>\n",
       "  <tbody>\n",
       "    <tr>\n",
       "      <th>944</th>\n",
       "      <td>ENGENHARIA AEROESPACIAL/FGA - Bacharel - Prese...</td>\n",
       "      <td>1</td>\n",
       "      <td>2</td>\n",
       "      <td>2013/1</td>\n",
       "      <td>CIC0007</td>\n",
       "      <td>27238</td>\n",
       "    </tr>\n",
       "    <tr>\n",
       "      <th>945</th>\n",
       "      <td>ENGENHARIA AEROESPACIAL/FGA - Bacharel - Prese...</td>\n",
       "      <td>1</td>\n",
       "      <td>1</td>\n",
       "      <td>2013/1</td>\n",
       "      <td>ENE0277</td>\n",
       "      <td>27238</td>\n",
       "    </tr>\n",
       "    <tr>\n",
       "      <th>946</th>\n",
       "      <td>ENGENHARIA AEROESPACIAL/FGA - Bacharel - Prese...</td>\n",
       "      <td>1</td>\n",
       "      <td>4</td>\n",
       "      <td>2013/1</td>\n",
       "      <td>ENM0068</td>\n",
       "      <td>27238</td>\n",
       "    </tr>\n",
       "    <tr>\n",
       "      <th>947</th>\n",
       "      <td>ENGENHARIA AEROESPACIAL/FGA - Bacharel - Prese...</td>\n",
       "      <td>1</td>\n",
       "      <td>1</td>\n",
       "      <td>2013/1</td>\n",
       "      <td>ENM0071</td>\n",
       "      <td>27238</td>\n",
       "    </tr>\n",
       "    <tr>\n",
       "      <th>948</th>\n",
       "      <td>ENGENHARIA AEROESPACIAL/FGA - Bacharel - Prese...</td>\n",
       "      <td>1</td>\n",
       "      <td>1</td>\n",
       "      <td>2013/1</td>\n",
       "      <td>ENM0080</td>\n",
       "      <td>27238</td>\n",
       "    </tr>\n",
       "  </tbody>\n",
       "</table>\n",
       "</div>"
      ],
      "text/plain": [
       "                                               IDFluxo  Status  Matriculas  \\\n",
       "944  ENGENHARIA AEROESPACIAL/FGA - Bacharel - Prese...       1           2   \n",
       "945  ENGENHARIA AEROESPACIAL/FGA - Bacharel - Prese...       1           1   \n",
       "946  ENGENHARIA AEROESPACIAL/FGA - Bacharel - Prese...       1           4   \n",
       "947  ENGENHARIA AEROESPACIAL/FGA - Bacharel - Prese...       1           1   \n",
       "948  ENGENHARIA AEROESPACIAL/FGA - Bacharel - Prese...       1           1   \n",
       "\n",
       "    Ingresso IDDisciplina  IDEstudante  \n",
       "944   2013/1      CIC0007        27238  \n",
       "945   2013/1      ENE0277        27238  \n",
       "946   2013/1      ENM0068        27238  \n",
       "947   2013/1      ENM0071        27238  \n",
       "948   2013/1      ENM0080        27238  "
      ]
     },
     "execution_count": 173,
     "metadata": {},
     "output_type": "execute_result"
    }
   ],
   "source": [
    "anoTreze = [\"2013/1\", \"2013/2\"]\n",
    "df_anoTreze = df[df.Ingresso.isin(anoTreze)]\n",
    "df_anoTreze.head()"
   ]
  },
  {
   "cell_type": "code",
   "execution_count": 174,
   "metadata": {},
   "outputs": [
    {
     "data": {
      "text/html": [
       "<div>\n",
       "<style scoped>\n",
       "    .dataframe tbody tr th:only-of-type {\n",
       "        vertical-align: middle;\n",
       "    }\n",
       "\n",
       "    .dataframe tbody tr th {\n",
       "        vertical-align: top;\n",
       "    }\n",
       "\n",
       "    .dataframe thead th {\n",
       "        text-align: right;\n",
       "    }\n",
       "</style>\n",
       "<table border=\"1\" class=\"dataframe\">\n",
       "  <thead>\n",
       "    <tr style=\"text-align: right;\">\n",
       "      <th></th>\n",
       "      <th>IDFluxo</th>\n",
       "      <th>Status</th>\n",
       "      <th>Matriculas</th>\n",
       "      <th>Ingresso</th>\n",
       "      <th>IDDisciplina</th>\n",
       "      <th>IDEstudante</th>\n",
       "    </tr>\n",
       "  </thead>\n",
       "  <tbody>\n",
       "    <tr>\n",
       "      <th>1881</th>\n",
       "      <td>ENGENHARIA AEROESPACIAL/FGA - Bacharel - Prese...</td>\n",
       "      <td>1</td>\n",
       "      <td>1</td>\n",
       "      <td>2014/1</td>\n",
       "      <td>CIC0088</td>\n",
       "      <td>26253</td>\n",
       "    </tr>\n",
       "    <tr>\n",
       "      <th>1882</th>\n",
       "      <td>ENGENHARIA AEROESPACIAL/FGA - Bacharel - Prese...</td>\n",
       "      <td>1</td>\n",
       "      <td>1</td>\n",
       "      <td>2014/1</td>\n",
       "      <td>ENE0277</td>\n",
       "      <td>26253</td>\n",
       "    </tr>\n",
       "    <tr>\n",
       "      <th>1883</th>\n",
       "      <td>ENGENHARIA AEROESPACIAL/FGA - Bacharel - Prese...</td>\n",
       "      <td>1</td>\n",
       "      <td>3</td>\n",
       "      <td>2014/1</td>\n",
       "      <td>ENM0068</td>\n",
       "      <td>26253</td>\n",
       "    </tr>\n",
       "    <tr>\n",
       "      <th>1884</th>\n",
       "      <td>ENGENHARIA AEROESPACIAL/FGA - Bacharel - Prese...</td>\n",
       "      <td>1</td>\n",
       "      <td>1</td>\n",
       "      <td>2014/1</td>\n",
       "      <td>ENM0071</td>\n",
       "      <td>26253</td>\n",
       "    </tr>\n",
       "    <tr>\n",
       "      <th>1885</th>\n",
       "      <td>ENGENHARIA AEROESPACIAL/FGA - Bacharel - Prese...</td>\n",
       "      <td>1</td>\n",
       "      <td>2</td>\n",
       "      <td>2014/1</td>\n",
       "      <td>ENM0080</td>\n",
       "      <td>26253</td>\n",
       "    </tr>\n",
       "  </tbody>\n",
       "</table>\n",
       "</div>"
      ],
      "text/plain": [
       "                                                IDFluxo  Status  Matriculas  \\\n",
       "1881  ENGENHARIA AEROESPACIAL/FGA - Bacharel - Prese...       1           1   \n",
       "1882  ENGENHARIA AEROESPACIAL/FGA - Bacharel - Prese...       1           1   \n",
       "1883  ENGENHARIA AEROESPACIAL/FGA - Bacharel - Prese...       1           3   \n",
       "1884  ENGENHARIA AEROESPACIAL/FGA - Bacharel - Prese...       1           1   \n",
       "1885  ENGENHARIA AEROESPACIAL/FGA - Bacharel - Prese...       1           2   \n",
       "\n",
       "     Ingresso IDDisciplina  IDEstudante  \n",
       "1881   2014/1      CIC0088        26253  \n",
       "1882   2014/1      ENE0277        26253  \n",
       "1883   2014/1      ENM0068        26253  \n",
       "1884   2014/1      ENM0071        26253  \n",
       "1885   2014/1      ENM0080        26253  "
      ]
     },
     "execution_count": 174,
     "metadata": {},
     "output_type": "execute_result"
    }
   ],
   "source": [
    "anoQuatorze = [\"2014/1\", \"2014/2\"]\n",
    "df_anoQuatorze = df[df.Ingresso.isin(anoQuatorze)]\n",
    "df_anoQuatorze.head()"
   ]
  },
  {
   "cell_type": "code",
   "execution_count": 175,
   "metadata": {},
   "outputs": [
    {
     "data": {
      "text/html": [
       "<div>\n",
       "<style scoped>\n",
       "    .dataframe tbody tr th:only-of-type {\n",
       "        vertical-align: middle;\n",
       "    }\n",
       "\n",
       "    .dataframe tbody tr th {\n",
       "        vertical-align: top;\n",
       "    }\n",
       "\n",
       "    .dataframe thead th {\n",
       "        text-align: right;\n",
       "    }\n",
       "</style>\n",
       "<table border=\"1\" class=\"dataframe\">\n",
       "  <thead>\n",
       "    <tr style=\"text-align: right;\">\n",
       "      <th></th>\n",
       "      <th>IDFluxo</th>\n",
       "      <th>Status</th>\n",
       "      <th>Matriculas</th>\n",
       "      <th>Ingresso</th>\n",
       "      <th>IDDisciplina</th>\n",
       "      <th>IDEstudante</th>\n",
       "    </tr>\n",
       "  </thead>\n",
       "  <tbody>\n",
       "    <tr>\n",
       "      <th>2999</th>\n",
       "      <td>ENGENHARIA AEROESPACIAL/FGA - Bacharel - Prese...</td>\n",
       "      <td>1</td>\n",
       "      <td>1</td>\n",
       "      <td>2015/1</td>\n",
       "      <td>CIC0007</td>\n",
       "      <td>24071</td>\n",
       "    </tr>\n",
       "    <tr>\n",
       "      <th>3000</th>\n",
       "      <td>ENGENHARIA AEROESPACIAL/FGA - Bacharel - Prese...</td>\n",
       "      <td>1</td>\n",
       "      <td>1</td>\n",
       "      <td>2015/1</td>\n",
       "      <td>CIC0088</td>\n",
       "      <td>24071</td>\n",
       "    </tr>\n",
       "    <tr>\n",
       "      <th>3001</th>\n",
       "      <td>ENGENHARIA AEROESPACIAL/FGA - Bacharel - Prese...</td>\n",
       "      <td>1</td>\n",
       "      <td>1</td>\n",
       "      <td>2015/1</td>\n",
       "      <td>ENM0068</td>\n",
       "      <td>24071</td>\n",
       "    </tr>\n",
       "    <tr>\n",
       "      <th>3002</th>\n",
       "      <td>ENGENHARIA AEROESPACIAL/FGA - Bacharel - Prese...</td>\n",
       "      <td>1</td>\n",
       "      <td>1</td>\n",
       "      <td>2015/1</td>\n",
       "      <td>ENM0071</td>\n",
       "      <td>24071</td>\n",
       "    </tr>\n",
       "    <tr>\n",
       "      <th>3003</th>\n",
       "      <td>ENGENHARIA AEROESPACIAL/FGA - Bacharel - Prese...</td>\n",
       "      <td>1</td>\n",
       "      <td>1</td>\n",
       "      <td>2015/1</td>\n",
       "      <td>ENM0080</td>\n",
       "      <td>24071</td>\n",
       "    </tr>\n",
       "  </tbody>\n",
       "</table>\n",
       "</div>"
      ],
      "text/plain": [
       "                                                IDFluxo  Status  Matriculas  \\\n",
       "2999  ENGENHARIA AEROESPACIAL/FGA - Bacharel - Prese...       1           1   \n",
       "3000  ENGENHARIA AEROESPACIAL/FGA - Bacharel - Prese...       1           1   \n",
       "3001  ENGENHARIA AEROESPACIAL/FGA - Bacharel - Prese...       1           1   \n",
       "3002  ENGENHARIA AEROESPACIAL/FGA - Bacharel - Prese...       1           1   \n",
       "3003  ENGENHARIA AEROESPACIAL/FGA - Bacharel - Prese...       1           1   \n",
       "\n",
       "     Ingresso IDDisciplina  IDEstudante  \n",
       "2999   2015/1      CIC0007        24071  \n",
       "3000   2015/1      CIC0088        24071  \n",
       "3001   2015/1      ENM0068        24071  \n",
       "3002   2015/1      ENM0071        24071  \n",
       "3003   2015/1      ENM0080        24071  "
      ]
     },
     "execution_count": 175,
     "metadata": {},
     "output_type": "execute_result"
    }
   ],
   "source": [
    "anoQuinze = [\"2015/1\", \"2015/2\"]\n",
    "df_anoQuinze = df[df.Ingresso.isin(anoQuinze)]\n",
    "df_anoQuinze.head()"
   ]
  },
  {
   "cell_type": "code",
   "execution_count": 176,
   "metadata": {},
   "outputs": [
    {
     "data": {
      "text/html": [
       "<div>\n",
       "<style scoped>\n",
       "    .dataframe tbody tr th:only-of-type {\n",
       "        vertical-align: middle;\n",
       "    }\n",
       "\n",
       "    .dataframe tbody tr th {\n",
       "        vertical-align: top;\n",
       "    }\n",
       "\n",
       "    .dataframe thead th {\n",
       "        text-align: right;\n",
       "    }\n",
       "</style>\n",
       "<table border=\"1\" class=\"dataframe\">\n",
       "  <thead>\n",
       "    <tr style=\"text-align: right;\">\n",
       "      <th></th>\n",
       "      <th>IDFluxo</th>\n",
       "      <th>Status</th>\n",
       "      <th>Matriculas</th>\n",
       "      <th>Ingresso</th>\n",
       "      <th>IDDisciplina</th>\n",
       "      <th>IDEstudante</th>\n",
       "    </tr>\n",
       "  </thead>\n",
       "  <tbody>\n",
       "    <tr>\n",
       "      <th>5724</th>\n",
       "      <td>ENGENHARIA AEROESPACIAL/FGA - Bacharel - Prese...</td>\n",
       "      <td>1</td>\n",
       "      <td>1</td>\n",
       "      <td>2016/1</td>\n",
       "      <td>DEG0204</td>\n",
       "      <td>18484</td>\n",
       "    </tr>\n",
       "    <tr>\n",
       "      <th>5725</th>\n",
       "      <td>ENGENHARIA AEROESPACIAL/FGA - Bacharel - Prese...</td>\n",
       "      <td>1</td>\n",
       "      <td>1</td>\n",
       "      <td>2016/1</td>\n",
       "      <td>ENM0068</td>\n",
       "      <td>18484</td>\n",
       "    </tr>\n",
       "    <tr>\n",
       "      <th>5726</th>\n",
       "      <td>ENGENHARIA AEROESPACIAL/FGA - Bacharel - Prese...</td>\n",
       "      <td>1</td>\n",
       "      <td>1</td>\n",
       "      <td>2016/1</td>\n",
       "      <td>ENM0071</td>\n",
       "      <td>18484</td>\n",
       "    </tr>\n",
       "    <tr>\n",
       "      <th>5727</th>\n",
       "      <td>ENGENHARIA AEROESPACIAL/FGA - Bacharel - Prese...</td>\n",
       "      <td>1</td>\n",
       "      <td>1</td>\n",
       "      <td>2016/1</td>\n",
       "      <td>ENM0080</td>\n",
       "      <td>18484</td>\n",
       "    </tr>\n",
       "    <tr>\n",
       "      <th>5728</th>\n",
       "      <td>ENGENHARIA AEROESPACIAL/FGA - Bacharel - Prese...</td>\n",
       "      <td>1</td>\n",
       "      <td>1</td>\n",
       "      <td>2016/1</td>\n",
       "      <td>FGA0008</td>\n",
       "      <td>18484</td>\n",
       "    </tr>\n",
       "  </tbody>\n",
       "</table>\n",
       "</div>"
      ],
      "text/plain": [
       "                                                IDFluxo  Status  Matriculas  \\\n",
       "5724  ENGENHARIA AEROESPACIAL/FGA - Bacharel - Prese...       1           1   \n",
       "5725  ENGENHARIA AEROESPACIAL/FGA - Bacharel - Prese...       1           1   \n",
       "5726  ENGENHARIA AEROESPACIAL/FGA - Bacharel - Prese...       1           1   \n",
       "5727  ENGENHARIA AEROESPACIAL/FGA - Bacharel - Prese...       1           1   \n",
       "5728  ENGENHARIA AEROESPACIAL/FGA - Bacharel - Prese...       1           1   \n",
       "\n",
       "     Ingresso IDDisciplina  IDEstudante  \n",
       "5724   2016/1      DEG0204        18484  \n",
       "5725   2016/1      ENM0068        18484  \n",
       "5726   2016/1      ENM0071        18484  \n",
       "5727   2016/1      ENM0080        18484  \n",
       "5728   2016/1      FGA0008        18484  "
      ]
     },
     "execution_count": 176,
     "metadata": {},
     "output_type": "execute_result"
    }
   ],
   "source": [
    "anoDezesseis = [\"2016/1\", \"2016/2\"]\n",
    "df_anoDezesseis = df[df.Ingresso.isin(anoDezesseis)]\n",
    "df_anoDezesseis.head()"
   ]
  },
  {
   "cell_type": "code",
   "execution_count": 177,
   "metadata": {},
   "outputs": [
    {
     "data": {
      "text/html": [
       "<div>\n",
       "<style scoped>\n",
       "    .dataframe tbody tr th:only-of-type {\n",
       "        vertical-align: middle;\n",
       "    }\n",
       "\n",
       "    .dataframe tbody tr th {\n",
       "        vertical-align: top;\n",
       "    }\n",
       "\n",
       "    .dataframe thead th {\n",
       "        text-align: right;\n",
       "    }\n",
       "</style>\n",
       "<table border=\"1\" class=\"dataframe\">\n",
       "  <thead>\n",
       "    <tr style=\"text-align: right;\">\n",
       "      <th></th>\n",
       "      <th>IDFluxo</th>\n",
       "      <th>Status</th>\n",
       "      <th>Matriculas</th>\n",
       "      <th>Ingresso</th>\n",
       "      <th>IDDisciplina</th>\n",
       "      <th>IDEstudante</th>\n",
       "    </tr>\n",
       "  </thead>\n",
       "  <tbody>\n",
       "    <tr>\n",
       "      <th>7953</th>\n",
       "      <td>ENGENHARIA AEROESPACIAL/FGA - Bacharel - Prese...</td>\n",
       "      <td>1</td>\n",
       "      <td>1</td>\n",
       "      <td>2017/1</td>\n",
       "      <td>ENM0080</td>\n",
       "      <td>14162</td>\n",
       "    </tr>\n",
       "    <tr>\n",
       "      <th>7954</th>\n",
       "      <td>ENGENHARIA AEROESPACIAL/FGA - Bacharel - Prese...</td>\n",
       "      <td>1</td>\n",
       "      <td>1</td>\n",
       "      <td>2017/1</td>\n",
       "      <td>FGA0009</td>\n",
       "      <td>14162</td>\n",
       "    </tr>\n",
       "    <tr>\n",
       "      <th>7955</th>\n",
       "      <td>ENGENHARIA AEROESPACIAL/FGA - Bacharel - Prese...</td>\n",
       "      <td>1</td>\n",
       "      <td>1</td>\n",
       "      <td>2017/1</td>\n",
       "      <td>FGA0011</td>\n",
       "      <td>14162</td>\n",
       "    </tr>\n",
       "    <tr>\n",
       "      <th>7956</th>\n",
       "      <td>ENGENHARIA AEROESPACIAL/FGA - Bacharel - Prese...</td>\n",
       "      <td>1</td>\n",
       "      <td>1</td>\n",
       "      <td>2017/1</td>\n",
       "      <td>FGA0021</td>\n",
       "      <td>14162</td>\n",
       "    </tr>\n",
       "    <tr>\n",
       "      <th>7957</th>\n",
       "      <td>ENGENHARIA AEROESPACIAL/FGA - Bacharel - Prese...</td>\n",
       "      <td>1</td>\n",
       "      <td>1</td>\n",
       "      <td>2017/1</td>\n",
       "      <td>FGA0039</td>\n",
       "      <td>14162</td>\n",
       "    </tr>\n",
       "  </tbody>\n",
       "</table>\n",
       "</div>"
      ],
      "text/plain": [
       "                                                IDFluxo  Status  Matriculas  \\\n",
       "7953  ENGENHARIA AEROESPACIAL/FGA - Bacharel - Prese...       1           1   \n",
       "7954  ENGENHARIA AEROESPACIAL/FGA - Bacharel - Prese...       1           1   \n",
       "7955  ENGENHARIA AEROESPACIAL/FGA - Bacharel - Prese...       1           1   \n",
       "7956  ENGENHARIA AEROESPACIAL/FGA - Bacharel - Prese...       1           1   \n",
       "7957  ENGENHARIA AEROESPACIAL/FGA - Bacharel - Prese...       1           1   \n",
       "\n",
       "     Ingresso IDDisciplina  IDEstudante  \n",
       "7953   2017/1      ENM0080        14162  \n",
       "7954   2017/1      FGA0009        14162  \n",
       "7955   2017/1      FGA0011        14162  \n",
       "7956   2017/1      FGA0021        14162  \n",
       "7957   2017/1      FGA0039        14162  "
      ]
     },
     "execution_count": 177,
     "metadata": {},
     "output_type": "execute_result"
    }
   ],
   "source": [
    "anoDezessete = [\"2017/1\", \"2017/2\"]\n",
    "df_anoDezessete = df[df.Ingresso.isin(anoDezessete)]\n",
    "df_anoDezessete.head()"
   ]
  },
  {
   "cell_type": "code",
   "execution_count": 178,
   "metadata": {},
   "outputs": [
    {
     "data": {
      "text/html": [
       "<div>\n",
       "<style scoped>\n",
       "    .dataframe tbody tr th:only-of-type {\n",
       "        vertical-align: middle;\n",
       "    }\n",
       "\n",
       "    .dataframe tbody tr th {\n",
       "        vertical-align: top;\n",
       "    }\n",
       "\n",
       "    .dataframe thead th {\n",
       "        text-align: right;\n",
       "    }\n",
       "</style>\n",
       "<table border=\"1\" class=\"dataframe\">\n",
       "  <thead>\n",
       "    <tr style=\"text-align: right;\">\n",
       "      <th></th>\n",
       "      <th>IDFluxo</th>\n",
       "      <th>Status</th>\n",
       "      <th>Matriculas</th>\n",
       "      <th>Ingresso</th>\n",
       "      <th>IDDisciplina</th>\n",
       "      <th>IDEstudante</th>\n",
       "    </tr>\n",
       "  </thead>\n",
       "  <tbody>\n",
       "    <tr>\n",
       "      <th>10580</th>\n",
       "      <td>ENGENHARIA AEROESPACIAL/FGA - Bacharel - Prese...</td>\n",
       "      <td>2</td>\n",
       "      <td>2</td>\n",
       "      <td>2018/1</td>\n",
       "      <td>ADM0023</td>\n",
       "      <td>5338</td>\n",
       "    </tr>\n",
       "    <tr>\n",
       "      <th>10581</th>\n",
       "      <td>ENGENHARIA AEROESPACIAL/FGA - Bacharel - Prese...</td>\n",
       "      <td>2</td>\n",
       "      <td>2</td>\n",
       "      <td>2018/1</td>\n",
       "      <td>CIC0004</td>\n",
       "      <td>5338</td>\n",
       "    </tr>\n",
       "    <tr>\n",
       "      <th>10582</th>\n",
       "      <td>ENGENHARIA AEROESPACIAL/FGA - Bacharel - Prese...</td>\n",
       "      <td>2</td>\n",
       "      <td>1</td>\n",
       "      <td>2018/1</td>\n",
       "      <td>FGA0090</td>\n",
       "      <td>5338</td>\n",
       "    </tr>\n",
       "    <tr>\n",
       "      <th>10583</th>\n",
       "      <td>ENGENHARIA AEROESPACIAL/FGA - Bacharel - Prese...</td>\n",
       "      <td>2</td>\n",
       "      <td>1</td>\n",
       "      <td>2018/1</td>\n",
       "      <td>FGA0133</td>\n",
       "      <td>5338</td>\n",
       "    </tr>\n",
       "    <tr>\n",
       "      <th>10584</th>\n",
       "      <td>ENGENHARIA AEROESPACIAL/FGA - Bacharel - Prese...</td>\n",
       "      <td>2</td>\n",
       "      <td>1</td>\n",
       "      <td>2018/1</td>\n",
       "      <td>FGA0148</td>\n",
       "      <td>5338</td>\n",
       "    </tr>\n",
       "  </tbody>\n",
       "</table>\n",
       "</div>"
      ],
      "text/plain": [
       "                                                 IDFluxo  Status  Matriculas  \\\n",
       "10580  ENGENHARIA AEROESPACIAL/FGA - Bacharel - Prese...       2           2   \n",
       "10581  ENGENHARIA AEROESPACIAL/FGA - Bacharel - Prese...       2           2   \n",
       "10582  ENGENHARIA AEROESPACIAL/FGA - Bacharel - Prese...       2           1   \n",
       "10583  ENGENHARIA AEROESPACIAL/FGA - Bacharel - Prese...       2           1   \n",
       "10584  ENGENHARIA AEROESPACIAL/FGA - Bacharel - Prese...       2           1   \n",
       "\n",
       "      Ingresso IDDisciplina  IDEstudante  \n",
       "10580   2018/1      ADM0023         5338  \n",
       "10581   2018/1      CIC0004         5338  \n",
       "10582   2018/1      FGA0090         5338  \n",
       "10583   2018/1      FGA0133         5338  \n",
       "10584   2018/1      FGA0148         5338  "
      ]
     },
     "execution_count": 178,
     "metadata": {},
     "output_type": "execute_result"
    }
   ],
   "source": [
    "anoDezoito = [\"2018/1\", \"2018/2\"]\n",
    "df_anoDezoito = df[df.Ingresso.isin(anoDezoito)]\n",
    "df_anoDezoito.head()"
   ]
  },
  {
   "cell_type": "code",
   "execution_count": 179,
   "metadata": {},
   "outputs": [
    {
     "data": {
      "text/html": [
       "<div>\n",
       "<style scoped>\n",
       "    .dataframe tbody tr th:only-of-type {\n",
       "        vertical-align: middle;\n",
       "    }\n",
       "\n",
       "    .dataframe tbody tr th {\n",
       "        vertical-align: top;\n",
       "    }\n",
       "\n",
       "    .dataframe thead th {\n",
       "        text-align: right;\n",
       "    }\n",
       "</style>\n",
       "<table border=\"1\" class=\"dataframe\">\n",
       "  <thead>\n",
       "    <tr style=\"text-align: right;\">\n",
       "      <th></th>\n",
       "      <th>IDFluxo</th>\n",
       "      <th>Status</th>\n",
       "      <th>Matriculas</th>\n",
       "      <th>Ingresso</th>\n",
       "      <th>IDDisciplina</th>\n",
       "      <th>IDEstudante</th>\n",
       "    </tr>\n",
       "  </thead>\n",
       "  <tbody>\n",
       "    <tr>\n",
       "      <th>13136</th>\n",
       "      <td>ENGENHARIA AEROESPACIAL/FGA - Bacharel - Prese...</td>\n",
       "      <td>2</td>\n",
       "      <td>2</td>\n",
       "      <td>2019/1</td>\n",
       "      <td>CIC0004</td>\n",
       "      <td>4684</td>\n",
       "    </tr>\n",
       "    <tr>\n",
       "      <th>13137</th>\n",
       "      <td>ENGENHARIA AEROESPACIAL/FGA - Bacharel - Prese...</td>\n",
       "      <td>2</td>\n",
       "      <td>4</td>\n",
       "      <td>2019/1</td>\n",
       "      <td>FGA0133</td>\n",
       "      <td>4684</td>\n",
       "    </tr>\n",
       "    <tr>\n",
       "      <th>13138</th>\n",
       "      <td>ENGENHARIA AEROESPACIAL/FGA - Bacharel - Prese...</td>\n",
       "      <td>2</td>\n",
       "      <td>1</td>\n",
       "      <td>2019/1</td>\n",
       "      <td>FGA0148</td>\n",
       "      <td>4684</td>\n",
       "    </tr>\n",
       "    <tr>\n",
       "      <th>13139</th>\n",
       "      <td>ENGENHARIA AEROESPACIAL/FGA - Bacharel - Prese...</td>\n",
       "      <td>2</td>\n",
       "      <td>1</td>\n",
       "      <td>2019/1</td>\n",
       "      <td>FGA0154</td>\n",
       "      <td>4684</td>\n",
       "    </tr>\n",
       "    <tr>\n",
       "      <th>13140</th>\n",
       "      <td>ENGENHARIA AEROESPACIAL/FGA - Bacharel - Prese...</td>\n",
       "      <td>2</td>\n",
       "      <td>2</td>\n",
       "      <td>2019/1</td>\n",
       "      <td>FGA0157</td>\n",
       "      <td>4684</td>\n",
       "    </tr>\n",
       "  </tbody>\n",
       "</table>\n",
       "</div>"
      ],
      "text/plain": [
       "                                                 IDFluxo  Status  Matriculas  \\\n",
       "13136  ENGENHARIA AEROESPACIAL/FGA - Bacharel - Prese...       2           2   \n",
       "13137  ENGENHARIA AEROESPACIAL/FGA - Bacharel - Prese...       2           4   \n",
       "13138  ENGENHARIA AEROESPACIAL/FGA - Bacharel - Prese...       2           1   \n",
       "13139  ENGENHARIA AEROESPACIAL/FGA - Bacharel - Prese...       2           1   \n",
       "13140  ENGENHARIA AEROESPACIAL/FGA - Bacharel - Prese...       2           2   \n",
       "\n",
       "      Ingresso IDDisciplina  IDEstudante  \n",
       "13136   2019/1      CIC0004         4684  \n",
       "13137   2019/1      FGA0133         4684  \n",
       "13138   2019/1      FGA0148         4684  \n",
       "13139   2019/1      FGA0154         4684  \n",
       "13140   2019/1      FGA0157         4684  "
      ]
     },
     "execution_count": 179,
     "metadata": {},
     "output_type": "execute_result"
    }
   ],
   "source": [
    "anoDezenove = [\"2019/1\", \"2019/2\"]\n",
    "df_anoDezenove = df[df.Ingresso.isin(anoDezenove)]\n",
    "df_anoDezenove.head()"
   ]
  },
  {
   "cell_type": "code",
   "execution_count": 180,
   "metadata": {},
   "outputs": [
    {
     "data": {
      "text/html": [
       "<div>\n",
       "<style scoped>\n",
       "    .dataframe tbody tr th:only-of-type {\n",
       "        vertical-align: middle;\n",
       "    }\n",
       "\n",
       "    .dataframe tbody tr th {\n",
       "        vertical-align: top;\n",
       "    }\n",
       "\n",
       "    .dataframe thead th {\n",
       "        text-align: right;\n",
       "    }\n",
       "</style>\n",
       "<table border=\"1\" class=\"dataframe\">\n",
       "  <thead>\n",
       "    <tr style=\"text-align: right;\">\n",
       "      <th></th>\n",
       "      <th>IDFluxo</th>\n",
       "      <th>Status</th>\n",
       "      <th>Matriculas</th>\n",
       "      <th>Ingresso</th>\n",
       "      <th>IDDisciplina</th>\n",
       "      <th>IDEstudante</th>\n",
       "    </tr>\n",
       "  </thead>\n",
       "  <tbody>\n",
       "    <tr>\n",
       "      <th>15026</th>\n",
       "      <td>ENGENHARIA AEROESPACIAL/FGA - Bacharel - Prese...</td>\n",
       "      <td>5</td>\n",
       "      <td>1</td>\n",
       "      <td>2020/1</td>\n",
       "      <td>FGA0021</td>\n",
       "      <td>11007</td>\n",
       "    </tr>\n",
       "    <tr>\n",
       "      <th>15027</th>\n",
       "      <td>ENGENHARIA AEROESPACIAL/FGA - Bacharel - Prese...</td>\n",
       "      <td>5</td>\n",
       "      <td>1</td>\n",
       "      <td>2020/1</td>\n",
       "      <td>FGA0037</td>\n",
       "      <td>11007</td>\n",
       "    </tr>\n",
       "    <tr>\n",
       "      <th>15028</th>\n",
       "      <td>ENGENHARIA AEROESPACIAL/FGA - Bacharel - Prese...</td>\n",
       "      <td>5</td>\n",
       "      <td>1</td>\n",
       "      <td>2020/1</td>\n",
       "      <td>FGA0038</td>\n",
       "      <td>11007</td>\n",
       "    </tr>\n",
       "    <tr>\n",
       "      <th>15029</th>\n",
       "      <td>ENGENHARIA AEROESPACIAL/FGA - Bacharel - Prese...</td>\n",
       "      <td>5</td>\n",
       "      <td>1</td>\n",
       "      <td>2020/1</td>\n",
       "      <td>FGA0039</td>\n",
       "      <td>11007</td>\n",
       "    </tr>\n",
       "    <tr>\n",
       "      <th>15030</th>\n",
       "      <td>ENGENHARIA AEROESPACIAL/FGA - Bacharel - Prese...</td>\n",
       "      <td>5</td>\n",
       "      <td>1</td>\n",
       "      <td>2020/1</td>\n",
       "      <td>FGA0043</td>\n",
       "      <td>11007</td>\n",
       "    </tr>\n",
       "  </tbody>\n",
       "</table>\n",
       "</div>"
      ],
      "text/plain": [
       "                                                 IDFluxo  Status  Matriculas  \\\n",
       "15026  ENGENHARIA AEROESPACIAL/FGA - Bacharel - Prese...       5           1   \n",
       "15027  ENGENHARIA AEROESPACIAL/FGA - Bacharel - Prese...       5           1   \n",
       "15028  ENGENHARIA AEROESPACIAL/FGA - Bacharel - Prese...       5           1   \n",
       "15029  ENGENHARIA AEROESPACIAL/FGA - Bacharel - Prese...       5           1   \n",
       "15030  ENGENHARIA AEROESPACIAL/FGA - Bacharel - Prese...       5           1   \n",
       "\n",
       "      Ingresso IDDisciplina  IDEstudante  \n",
       "15026   2020/1      FGA0021        11007  \n",
       "15027   2020/1      FGA0037        11007  \n",
       "15028   2020/1      FGA0038        11007  \n",
       "15029   2020/1      FGA0039        11007  \n",
       "15030   2020/1      FGA0043        11007  "
      ]
     },
     "execution_count": 180,
     "metadata": {},
     "output_type": "execute_result"
    }
   ],
   "source": [
    "anoVinte = [\"2020/1\", \"2020/2\"]\n",
    "df_anoVinte = df[df.Ingresso.isin(anoVinte)]\n",
    "df_anoVinte.head()"
   ]
  },
  {
   "cell_type": "code",
   "execution_count": 181,
   "metadata": {},
   "outputs": [
    {
     "data": {
      "text/html": [
       "<div>\n",
       "<style scoped>\n",
       "    .dataframe tbody tr th:only-of-type {\n",
       "        vertical-align: middle;\n",
       "    }\n",
       "\n",
       "    .dataframe tbody tr th {\n",
       "        vertical-align: top;\n",
       "    }\n",
       "\n",
       "    .dataframe thead th {\n",
       "        text-align: right;\n",
       "    }\n",
       "</style>\n",
       "<table border=\"1\" class=\"dataframe\">\n",
       "  <thead>\n",
       "    <tr style=\"text-align: right;\">\n",
       "      <th></th>\n",
       "      <th>IDFluxo</th>\n",
       "      <th>Status</th>\n",
       "      <th>Matriculas</th>\n",
       "      <th>Ingresso</th>\n",
       "      <th>IDDisciplina</th>\n",
       "      <th>IDEstudante</th>\n",
       "    </tr>\n",
       "  </thead>\n",
       "  <tbody>\n",
       "    <tr>\n",
       "      <th>15042</th>\n",
       "      <td>ENGENHARIA AEROESPACIAL/FGA - Bacharel - Prese...</td>\n",
       "      <td>2</td>\n",
       "      <td>1</td>\n",
       "      <td>2021/1</td>\n",
       "      <td>CIC0004</td>\n",
       "      <td>22317</td>\n",
       "    </tr>\n",
       "    <tr>\n",
       "      <th>15043</th>\n",
       "      <td>ENGENHARIA AEROESPACIAL/FGA - Bacharel - Prese...</td>\n",
       "      <td>2</td>\n",
       "      <td>1</td>\n",
       "      <td>2021/1</td>\n",
       "      <td>FGA0133</td>\n",
       "      <td>22317</td>\n",
       "    </tr>\n",
       "    <tr>\n",
       "      <th>15044</th>\n",
       "      <td>ENGENHARIA AEROESPACIAL/FGA - Bacharel - Prese...</td>\n",
       "      <td>2</td>\n",
       "      <td>1</td>\n",
       "      <td>2021/1</td>\n",
       "      <td>FGA0157</td>\n",
       "      <td>22317</td>\n",
       "    </tr>\n",
       "    <tr>\n",
       "      <th>15045</th>\n",
       "      <td>ENGENHARIA AEROESPACIAL/FGA - Bacharel - Prese...</td>\n",
       "      <td>2</td>\n",
       "      <td>1</td>\n",
       "      <td>2021/1</td>\n",
       "      <td>FGA0161</td>\n",
       "      <td>22317</td>\n",
       "    </tr>\n",
       "    <tr>\n",
       "      <th>15046</th>\n",
       "      <td>ENGENHARIA AEROESPACIAL/FGA - Bacharel - Prese...</td>\n",
       "      <td>2</td>\n",
       "      <td>1</td>\n",
       "      <td>2021/1</td>\n",
       "      <td>FGA0163</td>\n",
       "      <td>22317</td>\n",
       "    </tr>\n",
       "  </tbody>\n",
       "</table>\n",
       "</div>"
      ],
      "text/plain": [
       "                                                 IDFluxo  Status  Matriculas  \\\n",
       "15042  ENGENHARIA AEROESPACIAL/FGA - Bacharel - Prese...       2           1   \n",
       "15043  ENGENHARIA AEROESPACIAL/FGA - Bacharel - Prese...       2           1   \n",
       "15044  ENGENHARIA AEROESPACIAL/FGA - Bacharel - Prese...       2           1   \n",
       "15045  ENGENHARIA AEROESPACIAL/FGA - Bacharel - Prese...       2           1   \n",
       "15046  ENGENHARIA AEROESPACIAL/FGA - Bacharel - Prese...       2           1   \n",
       "\n",
       "      Ingresso IDDisciplina  IDEstudante  \n",
       "15042   2021/1      CIC0004        22317  \n",
       "15043   2021/1      FGA0133        22317  \n",
       "15044   2021/1      FGA0157        22317  \n",
       "15045   2021/1      FGA0161        22317  \n",
       "15046   2021/1      FGA0163        22317  "
      ]
     },
     "execution_count": 181,
     "metadata": {},
     "output_type": "execute_result"
    }
   ],
   "source": [
    "anoVinteUm = [\"2021/1\", \"2021/2\"]\n",
    "df_anoVinteUm = df[df.Ingresso.isin(anoVinteUm)]\n",
    "df_anoVinteUm.head()"
   ]
  },
  {
   "cell_type": "code",
   "execution_count": 182,
   "metadata": {},
   "outputs": [
    {
     "data": {
      "text/html": [
       "<div>\n",
       "<style scoped>\n",
       "    .dataframe tbody tr th:only-of-type {\n",
       "        vertical-align: middle;\n",
       "    }\n",
       "\n",
       "    .dataframe tbody tr th {\n",
       "        vertical-align: top;\n",
       "    }\n",
       "\n",
       "    .dataframe thead th {\n",
       "        text-align: right;\n",
       "    }\n",
       "</style>\n",
       "<table border=\"1\" class=\"dataframe\">\n",
       "  <thead>\n",
       "    <tr style=\"text-align: right;\">\n",
       "      <th></th>\n",
       "      <th>IDFluxo</th>\n",
       "      <th>Matriculas</th>\n",
       "      <th>IDEstudante</th>\n",
       "    </tr>\n",
       "  </thead>\n",
       "  <tbody>\n",
       "    <tr>\n",
       "      <th>0</th>\n",
       "      <td>ENGENHARIA AEROESPACIAL/FGA - Bacharel - Prese...</td>\n",
       "      <td>2</td>\n",
       "      <td>27990</td>\n",
       "    </tr>\n",
       "    <tr>\n",
       "      <th>1</th>\n",
       "      <td>ENGENHARIA AEROESPACIAL/FGA - Bacharel - Prese...</td>\n",
       "      <td>1</td>\n",
       "      <td>27990</td>\n",
       "    </tr>\n",
       "    <tr>\n",
       "      <th>2</th>\n",
       "      <td>ENGENHARIA AEROESPACIAL/FGA - Bacharel - Prese...</td>\n",
       "      <td>1</td>\n",
       "      <td>27990</td>\n",
       "    </tr>\n",
       "    <tr>\n",
       "      <th>3</th>\n",
       "      <td>ENGENHARIA AEROESPACIAL/FGA - Bacharel - Prese...</td>\n",
       "      <td>1</td>\n",
       "      <td>27990</td>\n",
       "    </tr>\n",
       "    <tr>\n",
       "      <th>4</th>\n",
       "      <td>ENGENHARIA AEROESPACIAL/FGA - Bacharel - Prese...</td>\n",
       "      <td>2</td>\n",
       "      <td>27990</td>\n",
       "    </tr>\n",
       "  </tbody>\n",
       "</table>\n",
       "</div>"
      ],
      "text/plain": [
       "                                             IDFluxo  Matriculas  IDEstudante\n",
       "0  ENGENHARIA AEROESPACIAL/FGA - Bacharel - Prese...           2        27990\n",
       "1  ENGENHARIA AEROESPACIAL/FGA - Bacharel - Prese...           1        27990\n",
       "2  ENGENHARIA AEROESPACIAL/FGA - Bacharel - Prese...           1        27990\n",
       "3  ENGENHARIA AEROESPACIAL/FGA - Bacharel - Prese...           1        27990\n",
       "4  ENGENHARIA AEROESPACIAL/FGA - Bacharel - Prese...           2        27990"
      ]
     },
     "execution_count": 182,
     "metadata": {},
     "output_type": "execute_result"
    }
   ],
   "source": [
    "X_anosAntigos = df_anosAntigos.drop(['Status', 'IDDisciplina', 'Ingresso'], axis=1).copy()\n",
    "X_anosAntigos.head()"
   ]
  },
  {
   "cell_type": "code",
   "execution_count": 183,
   "metadata": {},
   "outputs": [
    {
     "data": {
      "text/html": [
       "<div>\n",
       "<style scoped>\n",
       "    .dataframe tbody tr th:only-of-type {\n",
       "        vertical-align: middle;\n",
       "    }\n",
       "\n",
       "    .dataframe tbody tr th {\n",
       "        vertical-align: top;\n",
       "    }\n",
       "\n",
       "    .dataframe thead th {\n",
       "        text-align: right;\n",
       "    }\n",
       "</style>\n",
       "<table border=\"1\" class=\"dataframe\">\n",
       "  <thead>\n",
       "    <tr style=\"text-align: right;\">\n",
       "      <th></th>\n",
       "      <th>Matriculas</th>\n",
       "      <th>IDEstudante</th>\n",
       "      <th>IDFluxo_ENGENHARIA AEROESPACIAL/FGA - Bacharel - Presencial - D - 20121</th>\n",
       "      <th>IDFluxo_ENGENHARIA AUTOMOTIVA/FGA - Bacharel - Presencial - D - 20082</th>\n",
       "      <th>IDFluxo_ENGENHARIA DE ENERGIA/FGA - Bacharel - Presencial - D - 20082</th>\n",
       "      <th>IDFluxo_ENGENHARIA DE SOFTWARE/FGA - Bacharel - Presencial - D - 20082</th>\n",
       "      <th>IDFluxo_ENGENHARIA ELETRÔNICA/FGA - Bacharel - Presencial - D - 20082</th>\n",
       "      <th>IDFluxo_ENGENHARIA ELETRÔNICA/FGA - Bacharel - Presencial - D - 20152</th>\n",
       "    </tr>\n",
       "  </thead>\n",
       "  <tbody>\n",
       "    <tr>\n",
       "      <th>0</th>\n",
       "      <td>2</td>\n",
       "      <td>27990</td>\n",
       "      <td>1</td>\n",
       "      <td>0</td>\n",
       "      <td>0</td>\n",
       "      <td>0</td>\n",
       "      <td>0</td>\n",
       "      <td>0</td>\n",
       "    </tr>\n",
       "    <tr>\n",
       "      <th>1</th>\n",
       "      <td>1</td>\n",
       "      <td>27990</td>\n",
       "      <td>1</td>\n",
       "      <td>0</td>\n",
       "      <td>0</td>\n",
       "      <td>0</td>\n",
       "      <td>0</td>\n",
       "      <td>0</td>\n",
       "    </tr>\n",
       "    <tr>\n",
       "      <th>2</th>\n",
       "      <td>1</td>\n",
       "      <td>27990</td>\n",
       "      <td>1</td>\n",
       "      <td>0</td>\n",
       "      <td>0</td>\n",
       "      <td>0</td>\n",
       "      <td>0</td>\n",
       "      <td>0</td>\n",
       "    </tr>\n",
       "    <tr>\n",
       "      <th>3</th>\n",
       "      <td>1</td>\n",
       "      <td>27990</td>\n",
       "      <td>1</td>\n",
       "      <td>0</td>\n",
       "      <td>0</td>\n",
       "      <td>0</td>\n",
       "      <td>0</td>\n",
       "      <td>0</td>\n",
       "    </tr>\n",
       "    <tr>\n",
       "      <th>4</th>\n",
       "      <td>2</td>\n",
       "      <td>27990</td>\n",
       "      <td>1</td>\n",
       "      <td>0</td>\n",
       "      <td>0</td>\n",
       "      <td>0</td>\n",
       "      <td>0</td>\n",
       "      <td>0</td>\n",
       "    </tr>\n",
       "  </tbody>\n",
       "</table>\n",
       "</div>"
      ],
      "text/plain": [
       "   Matriculas  IDEstudante  \\\n",
       "0           2        27990   \n",
       "1           1        27990   \n",
       "2           1        27990   \n",
       "3           1        27990   \n",
       "4           2        27990   \n",
       "\n",
       "   IDFluxo_ENGENHARIA AEROESPACIAL/FGA - Bacharel - Presencial - D - 20121  \\\n",
       "0                                                  1                         \n",
       "1                                                  1                         \n",
       "2                                                  1                         \n",
       "3                                                  1                         \n",
       "4                                                  1                         \n",
       "\n",
       "   IDFluxo_ENGENHARIA AUTOMOTIVA/FGA - Bacharel - Presencial - D - 20082  \\\n",
       "0                                                  0                       \n",
       "1                                                  0                       \n",
       "2                                                  0                       \n",
       "3                                                  0                       \n",
       "4                                                  0                       \n",
       "\n",
       "   IDFluxo_ENGENHARIA DE ENERGIA/FGA - Bacharel - Presencial - D - 20082  \\\n",
       "0                                                  0                       \n",
       "1                                                  0                       \n",
       "2                                                  0                       \n",
       "3                                                  0                       \n",
       "4                                                  0                       \n",
       "\n",
       "   IDFluxo_ENGENHARIA DE SOFTWARE/FGA - Bacharel - Presencial - D - 20082  \\\n",
       "0                                                  0                        \n",
       "1                                                  0                        \n",
       "2                                                  0                        \n",
       "3                                                  0                        \n",
       "4                                                  0                        \n",
       "\n",
       "   IDFluxo_ENGENHARIA ELETRÔNICA/FGA - Bacharel - Presencial - D - 20082  \\\n",
       "0                                                  0                       \n",
       "1                                                  0                       \n",
       "2                                                  0                       \n",
       "3                                                  0                       \n",
       "4                                                  0                       \n",
       "\n",
       "   IDFluxo_ENGENHARIA ELETRÔNICA/FGA - Bacharel - Presencial - D - 20152  \n",
       "0                                                  0                      \n",
       "1                                                  0                      \n",
       "2                                                  0                      \n",
       "3                                                  0                      \n",
       "4                                                  0                      "
      ]
     },
     "execution_count": 183,
     "metadata": {},
     "output_type": "execute_result"
    }
   ],
   "source": [
    "X_encoded = pd.get_dummies(X_anosAntigos, columns=['IDFluxo'])\n",
    "X_encoded.head()"
   ]
  },
  {
   "cell_type": "code",
   "execution_count": 184,
   "metadata": {},
   "outputs": [
    {
     "data": {
      "text/plain": [
       "0    1\n",
       "1    1\n",
       "2    1\n",
       "3    1\n",
       "4    1\n",
       "Name: Status, dtype: int64"
      ]
     },
     "execution_count": 184,
     "metadata": {},
     "output_type": "execute_result"
    }
   ],
   "source": [
    "y = df_anosAntigos['Status'].copy()\n",
    "y.head()"
   ]
  },
  {
   "cell_type": "code",
   "execution_count": 185,
   "metadata": {},
   "outputs": [
    {
     "data": {
      "text/plain": [
       "IDFluxo        object\n",
       "Matriculas      int64\n",
       "IDEstudante     int64\n",
       "dtype: object"
      ]
     },
     "execution_count": 185,
     "metadata": {},
     "output_type": "execute_result"
    }
   ],
   "source": [
    "X_anosAntigos.dtypes"
   ]
  },
  {
   "cell_type": "code",
   "execution_count": 186,
   "metadata": {},
   "outputs": [
    {
     "data": {
      "text/plain": [
       "array([1, 2, 5], dtype=int64)"
      ]
     },
     "execution_count": 186,
     "metadata": {},
     "output_type": "execute_result"
    }
   ],
   "source": [
    "y.unique()"
   ]
  },
  {
   "cell_type": "code",
   "execution_count": 187,
   "metadata": {},
   "outputs": [
    {
     "data": {
      "text/plain": [
       "980"
      ]
     },
     "execution_count": 187,
     "metadata": {},
     "output_type": "execute_result"
    }
   ],
   "source": [
    "len(X_encoded)"
   ]
  },
  {
   "cell_type": "code",
   "execution_count": 188,
   "metadata": {},
   "outputs": [
    {
     "data": {
      "text/plain": [
       "980"
      ]
     },
     "execution_count": 188,
     "metadata": {},
     "output_type": "execute_result"
    }
   ],
   "source": [
    "len(y)"
   ]
  },
  {
   "cell_type": "code",
   "execution_count": 189,
   "metadata": {},
   "outputs": [],
   "source": [
    "X_train, X_test, y_train, y_test = train_test_split(X_encoded, y, random_state=42)\n",
    "\n",
    "clf_dt = DecisionTreeClassifier(random_state=42)\n",
    "clf_dt = clf_dt.fit(X_train, y_train)"
   ]
  },
  {
   "cell_type": "code",
   "execution_count": 190,
   "metadata": {},
   "outputs": [
    {
     "data": {
      "image/png": "[encoded data removed]",
      "text/plain": [
       "<Figure size 1080x540 with 1 Axes>"
      ]
     },
     "metadata": {
      "needs_background": "light"
     },
     "output_type": "display_data"
    }
   ],
   "source": [
    "plt.figure(figsize=(15, 7.5))\n",
    "plot_tree(clf_dt, filled=True, rounded=True,\n",
    "        class_names=[\"Formado\", \"Matrículado\", \"Evadido\"],\n",
    "        feature_names=X_encoded.columns);"
   ]
  },
  {
   "cell_type": "code",
   "execution_count": 191,
   "metadata": {},
   "outputs": [
    {
     "name": "stderr",
     "output_type": "stream",
     "text": [
      "C:\\Users\\amand\\AppData\\Local\\Programs\\Python\\Python310\\lib\\site-packages\\sklearn\\utils\\deprecation.py:87: FutureWarning: Function plot_confusion_matrix is deprecated; Function `plot_confusion_matrix` is deprecated in 1.0 and will be removed in 1.2. Use one of the class methods: ConfusionMatrixDisplay.from_predictions or ConfusionMatrixDisplay.from_estimator.\n",
      "  warnings.warn(msg, category=FutureWarning)\n"
     ]
    },
    {
     "data": {
      "text/plain": [
       "<sklearn.metrics._plot.confusion_matrix.ConfusionMatrixDisplay at 0x2bab4fd8310>"
      ]
     },
     "execution_count": 191,
     "metadata": {},
     "output_type": "execute_result"
    },
    {
     "data": {
      "image/png": "[encoded data removed]",
      "text/plain": [
       "<Figure size 432x288 with 2 Axes>"
      ]
     },
     "metadata": {
      "needs_background": "light"
     },
     "output_type": "display_data"
    }
   ],
   "source": [
    "plot_confusion_matrix(clf_dt, X_test, y_test, display_labels =[\"formado\", \"matrículado\", \"evadido\"])"
   ]
  },
  {
   "cell_type": "code",
   "execution_count": 192,
   "metadata": {},
   "outputs": [],
   "source": [
    "path = clf_dt.cost_complexity_pruning_path(X_train, y_train)\n",
    "ccp_alphas = path.ccp_alphas\n",
    "ccp_alphas = ccp_alphas[:-1]\n",
    "\n",
    "clf_dts = []\n",
    "\n",
    "for ccp_alpha in ccp_alphas:\n",
    "    clf_dt = DecisionTreeClassifier(random_state=0, ccp_alpha=ccp_alpha)\n",
    "    clf_dt.fit(X_train, y_train)\n",
    "    clf_dts.append(clf_dt)"
   ]
  },
  {
   "cell_type": "code",
   "execution_count": 193,
   "metadata": {},
   "outputs": [
    {
     "data": {
      "image/png": "[encoded data removed]",
      "text/plain": [
       "<Figure size 432x288 with 1 Axes>"
      ]
     },
     "metadata": {
      "needs_background": "light"
     },
     "output_type": "display_data"
    }
   ],
   "source": [
    "train_scores = [clf_dt.score(X_train, y_train) for clf_dt in clf_dts]\n",
    "test_scores = [clf_dt.score(X_test, y_test) for clf_dt in clf_dts]\n",
    "\n",
    "fig, ax = plt.subplots()\n",
    "ax.set_xlabel(\"alpha\")\n",
    "ax.set_ylabel(\"accuracy\")\n",
    "ax.set_title(\"Accuracy vs alpha for training and testing sets\")\n",
    "ax.plot(ccp_alphas, train_scores, marker='o', label =\"train\", drawstyle=\"steps-post\")\n",
    "ax.plot(ccp_alphas, test_scores, marker='o', label=\"test\", drawstyle=\"steps-post\")\n",
    "ax.legend()\n",
    "plt.show()"
   ]
  },
  {
   "cell_type": "code",
   "execution_count": 194,
   "metadata": {},
   "outputs": [
    {
     "data": {
      "text/plain": [
       "<AxesSubplot:xlabel='tree'>"
      ]
     },
     "execution_count": 194,
     "metadata": {},
     "output_type": "execute_result"
    },
    {
     "data": {
      "image/png": "[encoded data removed]",
      "text/plain": [
       "<Figure size 432x288 with 1 Axes>"
      ]
     },
     "metadata": {
      "needs_background": "light"
     },
     "output_type": "display_data"
    }
   ],
   "source": [
    "clf_dt = DecisionTreeClassifier(random_state=42, ccp_alpha=0.004)\n",
    "scores = cross_val_score(clf_dt, X_train, y_train, cv=10)\n",
    "df = pd.DataFrame(data={'tree': range(10), 'accuracy': scores})\n",
    "\n",
    "df.plot(x='tree', y='accuracy', marker='o', linestyle='--')"
   ]
  },
  {
   "cell_type": "code",
   "execution_count": 195,
   "metadata": {},
   "outputs": [
    {
     "data": {
      "text/plain": [
       "<AxesSubplot:xlabel='alpha'>"
      ]
     },
     "execution_count": 195,
     "metadata": {},
     "output_type": "execute_result"
    },
    {
     "data": {
      "image/png": "[encoded data removed]",
      "text/plain": [
       "<Figure size 432x288 with 1 Axes>"
      ]
     },
     "metadata": {
      "needs_background": "light"
     },
     "output_type": "display_data"
    }
   ],
   "source": [
    "alpha_loop_values = []\n",
    "\n",
    "for ccp_alpha in ccp_alphas:\n",
    "    clf_dt = DecisionTreeClassifier(random_state=0, ccp_alpha=ccp_alpha)\n",
    "    scores = cross_val_score(clf_dt, X_train, y_train, cv=10)\n",
    "    alpha_loop_values.append([ccp_alpha, np.mean(scores), np.std(scores)])\n",
    "\n",
    "alpha_results = pd.DataFrame(alpha_loop_values,\n",
    "                            columns=['alpha', 'mean_accuracy', 'std'])\n",
    "\n",
    "alpha_results.plot(x='alpha',\n",
    "                    y='mean_accuracy',\n",
    "                    yerr='std',\n",
    "                    marker='o',\n",
    "                    linestyle='--')"
   ]
  },
  {
   "cell_type": "code",
   "execution_count": 196,
   "metadata": {},
   "outputs": [
    {
     "data": {
      "text/html": [
       "<div>\n",
       "<style scoped>\n",
       "    .dataframe tbody tr th:only-of-type {\n",
       "        vertical-align: middle;\n",
       "    }\n",
       "\n",
       "    .dataframe tbody tr th {\n",
       "        vertical-align: top;\n",
       "    }\n",
       "\n",
       "    .dataframe thead th {\n",
       "        text-align: right;\n",
       "    }\n",
       "</style>\n",
       "<table border=\"1\" class=\"dataframe\">\n",
       "  <thead>\n",
       "    <tr style=\"text-align: right;\">\n",
       "      <th></th>\n",
       "      <th>alpha</th>\n",
       "      <th>mean_accuracy</th>\n",
       "      <th>std</th>\n",
       "    </tr>\n",
       "  </thead>\n",
       "  <tbody>\n",
       "    <tr>\n",
       "      <th>1</th>\n",
       "      <td>0.034266</td>\n",
       "      <td>0.866383</td>\n",
       "      <td>0.089087</td>\n",
       "    </tr>\n",
       "    <tr>\n",
       "      <th>2</th>\n",
       "      <td>0.034658</td>\n",
       "      <td>0.818771</td>\n",
       "      <td>0.076747</td>\n",
       "    </tr>\n",
       "    <tr>\n",
       "      <th>3</th>\n",
       "      <td>0.034798</td>\n",
       "      <td>0.818771</td>\n",
       "      <td>0.076747</td>\n",
       "    </tr>\n",
       "  </tbody>\n",
       "</table>\n",
       "</div>"
      ],
      "text/plain": [
       "      alpha  mean_accuracy       std\n",
       "1  0.034266       0.866383  0.089087\n",
       "2  0.034658       0.818771  0.076747\n",
       "3  0.034798       0.818771  0.076747"
      ]
     },
     "execution_count": 196,
     "metadata": {},
     "output_type": "execute_result"
    }
   ],
   "source": [
    "alpha_results[(alpha_results['alpha'] >0.03)\n",
    "& (alpha_results['alpha'] < 0.04)]"
   ]
  },
  {
   "cell_type": "code",
   "execution_count": 197,
   "metadata": {},
   "outputs": [
    {
     "data": {
      "text/plain": [
       "0.034266"
      ]
     },
     "execution_count": 197,
     "metadata": {},
     "output_type": "execute_result"
    }
   ],
   "source": [
    "ideal_ccp_alpha = 0.034266\n",
    "\n",
    "ideal_ccp_alpha"
   ]
  },
  {
   "cell_type": "code",
   "execution_count": 198,
   "metadata": {},
   "outputs": [
    {
     "data": {
      "text/plain": [
       "0.034266"
      ]
     },
     "execution_count": 198,
     "metadata": {},
     "output_type": "execute_result"
    }
   ],
   "source": [
    "ideal_ccp_alpha = float(ideal_ccp_alpha)\n",
    "ideal_ccp_alpha"
   ]
  },
  {
   "cell_type": "code",
   "execution_count": 199,
   "metadata": {},
   "outputs": [],
   "source": [
    "clf_dt_pruned = DecisionTreeClassifier(random_state=42,\n",
    "                                        ccp_alpha=ideal_ccp_alpha)\n",
    "clf_dt_pruned = clf_dt_pruned.fit(X_train, y_train) "
   ]
  },
  {
   "cell_type": "code",
   "execution_count": 200,
   "metadata": {},
   "outputs": [
    {
     "name": "stderr",
     "output_type": "stream",
     "text": [
      "C:\\Users\\amand\\AppData\\Local\\Programs\\Python\\Python310\\lib\\site-packages\\sklearn\\utils\\deprecation.py:87: FutureWarning: Function plot_confusion_matrix is deprecated; Function `plot_confusion_matrix` is deprecated in 1.0 and will be removed in 1.2. Use one of the class methods: ConfusionMatrixDisplay.from_predictions or ConfusionMatrixDisplay.from_estimator.\n",
      "  warnings.warn(msg, category=FutureWarning)\n"
     ]
    },
    {
     "data": {
      "text/plain": [
       "<sklearn.metrics._plot.confusion_matrix.ConfusionMatrixDisplay at 0x2bad0a87d00>"
      ]
     },
     "execution_count": 200,
     "metadata": {},
     "output_type": "execute_result"
    },
    {
     "data": {
      "image/png": "[encoded data removed]",
      "text/plain": [
       "<Figure size 432x288 with 2 Axes>"
      ]
     },
     "metadata": {
      "needs_background": "light"
     },
     "output_type": "display_data"
    }
   ],
   "source": [
    "plot_confusion_matrix(clf_dt_pruned, X_test, y_test, display_labels=[\"Formado\", \"Matrículado\", \"Evadido\"])"
   ]
  },
  {
   "cell_type": "code",
   "execution_count": 201,
   "metadata": {},
   "outputs": [
    {
     "data": {
      "image/png": "[encoded data removed]",
      "text/plain": [
       "<Figure size 1080x540 with 1 Axes>"
      ]
     },
     "metadata": {
      "needs_background": "light"
     },
     "output_type": "display_data"
    }
   ],
   "source": [
    "plt.figure(figsize=(15, 7.5))\n",
    "plot_tree(clf_dt_pruned, filled=True, rounded=True, class_names=[\"Formado\", \"Matrículado\", \"Evadido\"], feature_names=X_encoded.columns);"
   ]
  },
  {
   "cell_type": "code",
   "execution_count": 202,
   "metadata": {},
   "outputs": [
    {
     "name": "stdout",
     "output_type": "stream",
     "text": [
      "Classification report - \n",
      "               precision    recall  f1-score   support\n",
      "\n",
      "           1       0.00      0.00      0.00        91\n",
      "           2       0.62      1.00      0.77       110\n",
      "           5       0.54      0.84      0.65        44\n",
      "\n",
      "    accuracy                           0.60       245\n",
      "   macro avg       0.39      0.61      0.47       245\n",
      "weighted avg       0.38      0.60      0.46       245\n",
      "\n"
     ]
    },
    {
     "name": "stderr",
     "output_type": "stream",
     "text": [
      "C:\\Users\\amand\\AppData\\Local\\Programs\\Python\\Python310\\lib\\site-packages\\sklearn\\metrics\\_classification.py:1318: UndefinedMetricWarning: Precision and F-score are ill-defined and being set to 0.0 in labels with no predicted samples. Use `zero_division` parameter to control this behavior.\n",
      "  _warn_prf(average, modifier, msg_start, len(result))\n",
      "C:\\Users\\amand\\AppData\\Local\\Programs\\Python\\Python310\\lib\\site-packages\\sklearn\\metrics\\_classification.py:1318: UndefinedMetricWarning: Precision and F-score are ill-defined and being set to 0.0 in labels with no predicted samples. Use `zero_division` parameter to control this behavior.\n",
      "  _warn_prf(average, modifier, msg_start, len(result))\n",
      "C:\\Users\\amand\\AppData\\Local\\Programs\\Python\\Python310\\lib\\site-packages\\sklearn\\metrics\\_classification.py:1318: UndefinedMetricWarning: Precision and F-score are ill-defined and being set to 0.0 in labels with no predicted samples. Use `zero_division` parameter to control this behavior.\n",
      "  _warn_prf(average, modifier, msg_start, len(result))\n"
     ]
    }
   ],
   "source": [
    "clf_dt.fit(X_train, y_train)\n",
    "y_pred = clf_dt.predict(X_test)\n",
    "print(\"Classification report - \\n\", classification_report(y_test,y_pred))"
   ]
  }
 ],
 "metadata": {
  "interpreter": {
   "hash": "b43c197c36a6a1ecfa24f99ba81ec4ae2b9254cfc6ff873a9d546640f2cd7ac1"
  },
  "kernelspec": {
   "display_name": "Python 3.10.4 64-bit",
   "language": "python",
   "name": "python3"
  },
  "language_info": {
   "codemirror_mode": {
    "name": "ipython",
    "version": 3
   },
   "file_extension": ".py",
   "mimetype": "text/x-python",
   "name": "python",
   "nbconvert_exporter": "python",
   "pygments_lexer": "ipython3",
   "version": "3.10.4"
  },
  "orig_nbformat": 4
 },
 "nbformat": 4,
 "nbformat_minor": 2
}

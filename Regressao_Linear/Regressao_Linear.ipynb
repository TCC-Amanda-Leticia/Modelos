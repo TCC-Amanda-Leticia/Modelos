{
 "cells": [
  {
   "cell_type": "code",
   "execution_count": 173,
   "metadata": {},
   "outputs": [],
   "source": [
    "import pandas as pd\n",
    "import numpy as np\n",
    "import matplotlib.pyplot as plt\n",
    "import seaborn as sns"
   ]
  },
  {
   "cell_type": "code",
   "execution_count": 23,
   "metadata": {},
   "outputs": [],
   "source": [
    "# Lendos os dados do csv\n",
    "dados = pd.read_csv('dados.csv', sep = ';', encoding = \"ISO-8859-1\")\n",
    "fluxo = pd.read_csv('fluxos.csv', sep = ';', encoding = \"ISO-8859-1\")"
   ]
  },
  {
   "cell_type": "code",
   "execution_count": 24,
   "metadata": {},
   "outputs": [
    {
     "data": {
      "text/html": [
       "<div>\n",
       "<style scoped>\n",
       "    .dataframe tbody tr th:only-of-type {\n",
       "        vertical-align: middle;\n",
       "    }\n",
       "\n",
       "    .dataframe tbody tr th {\n",
       "        vertical-align: top;\n",
       "    }\n",
       "\n",
       "    .dataframe thead th {\n",
       "        text-align: right;\n",
       "    }\n",
       "</style>\n",
       "<table border=\"1\" class=\"dataframe\">\n",
       "  <thead>\n",
       "    <tr style=\"text-align: right;\">\n",
       "      <th></th>\n",
       "      <th>Abrev</th>\n",
       "      <th>IDFluxo</th>\n",
       "      <th>Periodo</th>\n",
       "      <th>Natureza</th>\n",
       "      <th>IDDisciplina</th>\n",
       "    </tr>\n",
       "  </thead>\n",
       "  <tbody>\n",
       "    <tr>\n",
       "      <th>0</th>\n",
       "      <td>AEROESPACIAL</td>\n",
       "      <td>ENGENHARIA AEROESPACIAL/FGA - Bacharel - Prese...</td>\n",
       "      <td>1</td>\n",
       "      <td>Obrigatória</td>\n",
       "      <td>FGA0161</td>\n",
       "    </tr>\n",
       "    <tr>\n",
       "      <th>1</th>\n",
       "      <td>AEROESPACIAL</td>\n",
       "      <td>ENGENHARIA AEROESPACIAL/FGA - Bacharel - Prese...</td>\n",
       "      <td>1</td>\n",
       "      <td>Obrigatória</td>\n",
       "      <td>FGA0162</td>\n",
       "    </tr>\n",
       "    <tr>\n",
       "      <th>2</th>\n",
       "      <td>AEROESPACIAL</td>\n",
       "      <td>ENGENHARIA AEROESPACIAL/FGA - Bacharel - Prese...</td>\n",
       "      <td>1</td>\n",
       "      <td>Obrigatória</td>\n",
       "      <td>FGA0168</td>\n",
       "    </tr>\n",
       "    <tr>\n",
       "      <th>3</th>\n",
       "      <td>AEROESPACIAL</td>\n",
       "      <td>ENGENHARIA AEROESPACIAL/FGA - Bacharel - Prese...</td>\n",
       "      <td>1</td>\n",
       "      <td>Obrigatória</td>\n",
       "      <td>MAT0024</td>\n",
       "    </tr>\n",
       "    <tr>\n",
       "      <th>4</th>\n",
       "      <td>AEROESPACIAL</td>\n",
       "      <td>ENGENHARIA AEROESPACIAL/FGA - Bacharel - Prese...</td>\n",
       "      <td>1</td>\n",
       "      <td>Obrigatória</td>\n",
       "      <td>MAT0030</td>\n",
       "    </tr>\n",
       "  </tbody>\n",
       "</table>\n",
       "</div>"
      ],
      "text/plain": [
       "          Abrev                                            IDFluxo  Periodo  \\\n",
       "0  AEROESPACIAL  ENGENHARIA AEROESPACIAL/FGA - Bacharel - Prese...        1   \n",
       "1  AEROESPACIAL  ENGENHARIA AEROESPACIAL/FGA - Bacharel - Prese...        1   \n",
       "2  AEROESPACIAL  ENGENHARIA AEROESPACIAL/FGA - Bacharel - Prese...        1   \n",
       "3  AEROESPACIAL  ENGENHARIA AEROESPACIAL/FGA - Bacharel - Prese...        1   \n",
       "4  AEROESPACIAL  ENGENHARIA AEROESPACIAL/FGA - Bacharel - Prese...        1   \n",
       "\n",
       "      Natureza IDDisciplina  \n",
       "0  Obrigatória      FGA0161  \n",
       "1  Obrigatória      FGA0162  \n",
       "2  Obrigatória      FGA0168  \n",
       "3  Obrigatória      MAT0024  \n",
       "4  Obrigatória      MAT0030  "
      ]
     },
     "execution_count": 24,
     "metadata": {},
     "output_type": "execute_result"
    }
   ],
   "source": [
    "fluxo.head()"
   ]
  },
  {
   "cell_type": "markdown",
   "metadata": {},
   "source": [
    "# Aeroespacial"
   ]
  },
  {
   "cell_type": "code",
   "execution_count": 29,
   "metadata": {},
   "outputs": [
    {
     "name": "stdout",
     "output_type": "stream",
     "text": [
      "ENGENHARIA AEROESPACIAL/FGA - Bacharel - Presencial - D - 20121\n"
     ]
    }
   ],
   "source": [
    "aero_fluxo20121 = dados[(dados['IDFluxo'] == 'ENGENHARIA AEROESPACIAL/FGA - Bacharel - Presencial - D - 20121')]\n",
    "print(aero_fluxo20121['IDFluxo'][0])\n",
    "#aero_fluxo20121.head()"
   ]
  },
  {
   "cell_type": "markdown",
   "metadata": {},
   "source": [
    "## Semestre 2011/1"
   ]
  },
  {
   "cell_type": "code",
   "execution_count": 31,
   "metadata": {},
   "outputs": [
    {
     "data": {
      "text/html": [
       "<div>\n",
       "<style scoped>\n",
       "    .dataframe tbody tr th:only-of-type {\n",
       "        vertical-align: middle;\n",
       "    }\n",
       "\n",
       "    .dataframe tbody tr th {\n",
       "        vertical-align: top;\n",
       "    }\n",
       "\n",
       "    .dataframe thead th {\n",
       "        text-align: right;\n",
       "    }\n",
       "</style>\n",
       "<table border=\"1\" class=\"dataframe\">\n",
       "  <thead>\n",
       "    <tr style=\"text-align: right;\">\n",
       "      <th></th>\n",
       "      <th>IDFluxo</th>\n",
       "      <th>Status</th>\n",
       "      <th>Matriculas</th>\n",
       "      <th>Ingresso</th>\n",
       "      <th>IDDisciplina</th>\n",
       "      <th>IDEstudante</th>\n",
       "    </tr>\n",
       "  </thead>\n",
       "  <tbody>\n",
       "    <tr>\n",
       "      <th>0</th>\n",
       "      <td>ENGENHARIA AEROESPACIAL/FGA - Bacharel - Prese...</td>\n",
       "      <td>1</td>\n",
       "      <td>2</td>\n",
       "      <td>2011/1</td>\n",
       "      <td>CIC0007</td>\n",
       "      <td>27990</td>\n",
       "    </tr>\n",
       "    <tr>\n",
       "      <th>1</th>\n",
       "      <td>ENGENHARIA AEROESPACIAL/FGA - Bacharel - Prese...</td>\n",
       "      <td>1</td>\n",
       "      <td>1</td>\n",
       "      <td>2011/1</td>\n",
       "      <td>ENM0068</td>\n",
       "      <td>27990</td>\n",
       "    </tr>\n",
       "    <tr>\n",
       "      <th>2</th>\n",
       "      <td>ENGENHARIA AEROESPACIAL/FGA - Bacharel - Prese...</td>\n",
       "      <td>1</td>\n",
       "      <td>1</td>\n",
       "      <td>2011/1</td>\n",
       "      <td>ENM0071</td>\n",
       "      <td>27990</td>\n",
       "    </tr>\n",
       "    <tr>\n",
       "      <th>3</th>\n",
       "      <td>ENGENHARIA AEROESPACIAL/FGA - Bacharel - Prese...</td>\n",
       "      <td>1</td>\n",
       "      <td>1</td>\n",
       "      <td>2011/1</td>\n",
       "      <td>FGA0008</td>\n",
       "      <td>27990</td>\n",
       "    </tr>\n",
       "    <tr>\n",
       "      <th>4</th>\n",
       "      <td>ENGENHARIA AEROESPACIAL/FGA - Bacharel - Prese...</td>\n",
       "      <td>1</td>\n",
       "      <td>2</td>\n",
       "      <td>2011/1</td>\n",
       "      <td>FGA0009</td>\n",
       "      <td>27990</td>\n",
       "    </tr>\n",
       "  </tbody>\n",
       "</table>\n",
       "</div>"
      ],
      "text/plain": [
       "                                             IDFluxo  Status  Matriculas  \\\n",
       "0  ENGENHARIA AEROESPACIAL/FGA - Bacharel - Prese...       1           2   \n",
       "1  ENGENHARIA AEROESPACIAL/FGA - Bacharel - Prese...       1           1   \n",
       "2  ENGENHARIA AEROESPACIAL/FGA - Bacharel - Prese...       1           1   \n",
       "3  ENGENHARIA AEROESPACIAL/FGA - Bacharel - Prese...       1           1   \n",
       "4  ENGENHARIA AEROESPACIAL/FGA - Bacharel - Prese...       1           2   \n",
       "\n",
       "  Ingresso IDDisciplina  IDEstudante  \n",
       "0   2011/1      CIC0007        27990  \n",
       "1   2011/1      ENM0068        27990  \n",
       "2   2011/1      ENM0071        27990  \n",
       "3   2011/1      FGA0008        27990  \n",
       "4   2011/1      FGA0009        27990  "
      ]
     },
     "execution_count": 31,
     "metadata": {},
     "output_type": "execute_result"
    }
   ],
   "source": [
    "semestre2011_1 = aero_fluxo20121[(aero_fluxo20121['Ingresso'] == '2011/1')]\n",
    "semestre2011_1.head()"
   ]
  },
  {
   "cell_type": "markdown",
   "metadata": {},
   "source": [
    "### Status 1"
   ]
  },
  {
   "cell_type": "code",
   "execution_count": 117,
   "metadata": {},
   "outputs": [
    {
     "data": {
      "text/html": [
       "<div>\n",
       "<style scoped>\n",
       "    .dataframe tbody tr th:only-of-type {\n",
       "        vertical-align: middle;\n",
       "    }\n",
       "\n",
       "    .dataframe tbody tr th {\n",
       "        vertical-align: top;\n",
       "    }\n",
       "\n",
       "    .dataframe thead th {\n",
       "        text-align: right;\n",
       "    }\n",
       "</style>\n",
       "<table border=\"1\" class=\"dataframe\">\n",
       "  <thead>\n",
       "    <tr style=\"text-align: right;\">\n",
       "      <th></th>\n",
       "      <th>IDFluxo</th>\n",
       "      <th>Status</th>\n",
       "      <th>Matriculas</th>\n",
       "      <th>Ingresso</th>\n",
       "      <th>IDDisciplina</th>\n",
       "      <th>IDEstudante</th>\n",
       "    </tr>\n",
       "  </thead>\n",
       "  <tbody>\n",
       "    <tr>\n",
       "      <th>0</th>\n",
       "      <td>ENGENHARIA AEROESPACIAL/FGA - Bacharel - Prese...</td>\n",
       "      <td>1</td>\n",
       "      <td>2</td>\n",
       "      <td>2011/1</td>\n",
       "      <td>CIC0007</td>\n",
       "      <td>27990</td>\n",
       "    </tr>\n",
       "    <tr>\n",
       "      <th>1</th>\n",
       "      <td>ENGENHARIA AEROESPACIAL/FGA - Bacharel - Prese...</td>\n",
       "      <td>1</td>\n",
       "      <td>1</td>\n",
       "      <td>2011/1</td>\n",
       "      <td>ENM0068</td>\n",
       "      <td>27990</td>\n",
       "    </tr>\n",
       "    <tr>\n",
       "      <th>2</th>\n",
       "      <td>ENGENHARIA AEROESPACIAL/FGA - Bacharel - Prese...</td>\n",
       "      <td>1</td>\n",
       "      <td>1</td>\n",
       "      <td>2011/1</td>\n",
       "      <td>ENM0071</td>\n",
       "      <td>27990</td>\n",
       "    </tr>\n",
       "    <tr>\n",
       "      <th>3</th>\n",
       "      <td>ENGENHARIA AEROESPACIAL/FGA - Bacharel - Prese...</td>\n",
       "      <td>1</td>\n",
       "      <td>1</td>\n",
       "      <td>2011/1</td>\n",
       "      <td>FGA0008</td>\n",
       "      <td>27990</td>\n",
       "    </tr>\n",
       "    <tr>\n",
       "      <th>4</th>\n",
       "      <td>ENGENHARIA AEROESPACIAL/FGA - Bacharel - Prese...</td>\n",
       "      <td>1</td>\n",
       "      <td>2</td>\n",
       "      <td>2011/1</td>\n",
       "      <td>FGA0009</td>\n",
       "      <td>27990</td>\n",
       "    </tr>\n",
       "  </tbody>\n",
       "</table>\n",
       "</div>"
      ],
      "text/plain": [
       "                                             IDFluxo  Status  Matriculas  \\\n",
       "0  ENGENHARIA AEROESPACIAL/FGA - Bacharel - Prese...       1           2   \n",
       "1  ENGENHARIA AEROESPACIAL/FGA - Bacharel - Prese...       1           1   \n",
       "2  ENGENHARIA AEROESPACIAL/FGA - Bacharel - Prese...       1           1   \n",
       "3  ENGENHARIA AEROESPACIAL/FGA - Bacharel - Prese...       1           1   \n",
       "4  ENGENHARIA AEROESPACIAL/FGA - Bacharel - Prese...       1           2   \n",
       "\n",
       "  Ingresso IDDisciplina  IDEstudante  \n",
       "0   2011/1      CIC0007        27990  \n",
       "1   2011/1      ENM0068        27990  \n",
       "2   2011/1      ENM0071        27990  \n",
       "3   2011/1      FGA0008        27990  \n",
       "4   2011/1      FGA0009        27990  "
      ]
     },
     "execution_count": 117,
     "metadata": {},
     "output_type": "execute_result"
    }
   ],
   "source": [
    "Fluxo_1 = semestre2011_1[(semestre2011_1['Status'] == 1)]\n",
    "Fluxo_1.head()"
   ]
  },
  {
   "cell_type": "code",
   "execution_count": 151,
   "metadata": {},
   "outputs": [
    {
     "data": {
      "text/html": [
       "<div>\n",
       "<style scoped>\n",
       "    .dataframe tbody tr th:only-of-type {\n",
       "        vertical-align: middle;\n",
       "    }\n",
       "\n",
       "    .dataframe tbody tr th {\n",
       "        vertical-align: top;\n",
       "    }\n",
       "\n",
       "    .dataframe thead th {\n",
       "        text-align: right;\n",
       "    }\n",
       "</style>\n",
       "<table border=\"1\" class=\"dataframe\">\n",
       "  <thead>\n",
       "    <tr style=\"text-align: right;\">\n",
       "      <th></th>\n",
       "      <th>IDEstudante</th>\n",
       "    </tr>\n",
       "  </thead>\n",
       "  <tbody>\n",
       "    <tr>\n",
       "      <th>0</th>\n",
       "      <td>27990</td>\n",
       "    </tr>\n",
       "  </tbody>\n",
       "</table>\n",
       "</div>"
      ],
      "text/plain": [
       "   IDEstudante\n",
       "0        27990"
      ]
     },
     "execution_count": 151,
     "metadata": {},
     "output_type": "execute_result"
    }
   ],
   "source": [
    "estudante = Fluxo_1.drop(['IDFluxo', 'Status', 'Matriculas', 'Ingresso', 'IDDisciplina'], axis= 1)\n",
    "estudante.drop_duplicates()"
   ]
  },
  {
   "cell_type": "code",
   "execution_count": 152,
   "metadata": {},
   "outputs": [
    {
     "data": {
      "text/html": [
       "<div>\n",
       "<style scoped>\n",
       "    .dataframe tbody tr th:only-of-type {\n",
       "        vertical-align: middle;\n",
       "    }\n",
       "\n",
       "    .dataframe tbody tr th {\n",
       "        vertical-align: top;\n",
       "    }\n",
       "\n",
       "    .dataframe thead th {\n",
       "        text-align: right;\n",
       "    }\n",
       "</style>\n",
       "<table border=\"1\" class=\"dataframe\">\n",
       "  <thead>\n",
       "    <tr style=\"text-align: right;\">\n",
       "      <th></th>\n",
       "    </tr>\n",
       "    <tr>\n",
       "      <th>IDEstudante</th>\n",
       "    </tr>\n",
       "  </thead>\n",
       "  <tbody>\n",
       "    <tr>\n",
       "      <th>27990</th>\n",
       "    </tr>\n",
       "    <tr>\n",
       "      <th>27990</th>\n",
       "    </tr>\n",
       "    <tr>\n",
       "      <th>27990</th>\n",
       "    </tr>\n",
       "    <tr>\n",
       "      <th>27990</th>\n",
       "    </tr>\n",
       "    <tr>\n",
       "      <th>27990</th>\n",
       "    </tr>\n",
       "  </tbody>\n",
       "</table>\n",
       "</div>"
      ],
      "text/plain": [
       "Empty DataFrame\n",
       "Columns: []\n",
       "Index: [27990, 27990, 27990, 27990, 27990]"
      ]
     },
     "execution_count": 152,
     "metadata": {},
     "output_type": "execute_result"
    }
   ],
   "source": [
    "est = estudante.set_index('IDEstudante')\n",
    "est.head()"
   ]
  },
  {
   "cell_type": "code",
   "execution_count": 155,
   "metadata": {},
   "outputs": [
    {
     "name": "stdout",
     "output_type": "stream",
     "text": [
      "57\n"
     ]
    }
   ],
   "source": [
    "est.drop_duplicates()\n",
    "\n",
    "print(len(est))"
   ]
  },
  {
   "cell_type": "code",
   "execution_count": 181,
   "metadata": {},
   "outputs": [
    {
     "name": "stdout",
     "output_type": "stream",
     "text": [
      "[27990]\n"
     ]
    }
   ],
   "source": [
    "arr = []\n",
    "arr_est = []\n",
    "i = 0\n",
    "\n",
    "while(i < len(est)):\n",
    "    arr.append(est.index[i])\n",
    "    i += 1\n",
    "\n",
    "for i in arr:\n",
    "    if i not in arr_est:\n",
    "        arr_est.append(i)\n",
    "    \n",
    "print(arr_est)"
   ]
  },
  {
   "cell_type": "code",
   "execution_count": 182,
   "metadata": {},
   "outputs": [],
   "source": [
    "disciplinas = fluxo.drop(['Abrev','IDFluxo', 'Periodo'], axis = 1)\n"
   ]
  },
  {
   "cell_type": "code",
   "execution_count": 183,
   "metadata": {},
   "outputs": [],
   "source": [
    "disciplina_obr = disciplinas[disciplinas['Natureza'] == 'Obrigatória']"
   ]
  },
  {
   "cell_type": "code",
   "execution_count": 57,
   "metadata": {},
   "outputs": [
    {
     "data": {
      "text/html": [
       "<div>\n",
       "<style scoped>\n",
       "    .dataframe tbody tr th:only-of-type {\n",
       "        vertical-align: middle;\n",
       "    }\n",
       "\n",
       "    .dataframe tbody tr th {\n",
       "        vertical-align: top;\n",
       "    }\n",
       "\n",
       "    .dataframe thead th {\n",
       "        text-align: right;\n",
       "    }\n",
       "</style>\n",
       "<table border=\"1\" class=\"dataframe\">\n",
       "  <thead>\n",
       "    <tr style=\"text-align: right;\">\n",
       "      <th></th>\n",
       "      <th>Natureza</th>\n",
       "      <th>IDDisciplina</th>\n",
       "    </tr>\n",
       "  </thead>\n",
       "  <tbody>\n",
       "    <tr>\n",
       "      <th>0</th>\n",
       "      <td>Obrigatória</td>\n",
       "      <td>FGA0161</td>\n",
       "    </tr>\n",
       "    <tr>\n",
       "      <th>1</th>\n",
       "      <td>Obrigatória</td>\n",
       "      <td>FGA0162</td>\n",
       "    </tr>\n",
       "    <tr>\n",
       "      <th>2</th>\n",
       "      <td>Obrigatória</td>\n",
       "      <td>FGA0168</td>\n",
       "    </tr>\n",
       "    <tr>\n",
       "      <th>3</th>\n",
       "      <td>Obrigatória</td>\n",
       "      <td>MAT0024</td>\n",
       "    </tr>\n",
       "    <tr>\n",
       "      <th>4</th>\n",
       "      <td>Obrigatória</td>\n",
       "      <td>MAT0030</td>\n",
       "    </tr>\n",
       "  </tbody>\n",
       "</table>\n",
       "</div>"
      ],
      "text/plain": [
       "      Natureza IDDisciplina\n",
       "0  Obrigatória      FGA0161\n",
       "1  Obrigatória      FGA0162\n",
       "2  Obrigatória      FGA0168\n",
       "3  Obrigatória      MAT0024\n",
       "4  Obrigatória      MAT0030"
      ]
     },
     "execution_count": 57,
     "metadata": {},
     "output_type": "execute_result"
    }
   ],
   "source": [
    "disciplina_obr.drop_duplicates()\n",
    "disciplina_obr.head()"
   ]
  },
  {
   "cell_type": "code",
   "execution_count": 212,
   "metadata": {},
   "outputs": [
    {
     "data": {
      "text/html": [
       "<div>\n",
       "<style scoped>\n",
       "    .dataframe tbody tr th:only-of-type {\n",
       "        vertical-align: middle;\n",
       "    }\n",
       "\n",
       "    .dataframe tbody tr th {\n",
       "        vertical-align: top;\n",
       "    }\n",
       "\n",
       "    .dataframe thead th {\n",
       "        text-align: right;\n",
       "    }\n",
       "</style>\n",
       "<table border=\"1\" class=\"dataframe\">\n",
       "  <thead>\n",
       "    <tr style=\"text-align: right;\">\n",
       "      <th></th>\n",
       "      <th>IDDisciplina</th>\n",
       "    </tr>\n",
       "  </thead>\n",
       "  <tbody>\n",
       "    <tr>\n",
       "      <th>0</th>\n",
       "      <td>FGA0161</td>\n",
       "    </tr>\n",
       "    <tr>\n",
       "      <th>1</th>\n",
       "      <td>FGA0162</td>\n",
       "    </tr>\n",
       "    <tr>\n",
       "      <th>2</th>\n",
       "      <td>FGA0168</td>\n",
       "    </tr>\n",
       "    <tr>\n",
       "      <th>3</th>\n",
       "      <td>MAT0024</td>\n",
       "    </tr>\n",
       "    <tr>\n",
       "      <th>4</th>\n",
       "      <td>MAT0030</td>\n",
       "    </tr>\n",
       "  </tbody>\n",
       "</table>\n",
       "</div>"
      ],
      "text/plain": [
       "  IDDisciplina\n",
       "0      FGA0161\n",
       "1      FGA0162\n",
       "2      FGA0168\n",
       "3      MAT0024\n",
       "4      MAT0030"
      ]
     },
     "execution_count": 212,
     "metadata": {},
     "output_type": "execute_result"
    }
   ],
   "source": [
    "table = disciplina_obr.drop(['Natureza'], axis = 1)\n",
    "table.drop_duplicates()\n",
    "\n",
    "table.head()"
   ]
  },
  {
   "cell_type": "code",
   "execution_count": 214,
   "metadata": {},
   "outputs": [
    {
     "data": {
      "text/html": [
       "<div>\n",
       "<style scoped>\n",
       "    .dataframe tbody tr th:only-of-type {\n",
       "        vertical-align: middle;\n",
       "    }\n",
       "\n",
       "    .dataframe tbody tr th {\n",
       "        vertical-align: top;\n",
       "    }\n",
       "\n",
       "    .dataframe thead th {\n",
       "        text-align: right;\n",
       "    }\n",
       "</style>\n",
       "<table border=\"1\" class=\"dataframe\">\n",
       "  <thead>\n",
       "    <tr style=\"text-align: right;\">\n",
       "      <th></th>\n",
       "    </tr>\n",
       "    <tr>\n",
       "      <th>IDDisciplina</th>\n",
       "    </tr>\n",
       "  </thead>\n",
       "  <tbody>\n",
       "    <tr>\n",
       "      <th>FGA0161</th>\n",
       "    </tr>\n",
       "    <tr>\n",
       "      <th>FGA0162</th>\n",
       "    </tr>\n",
       "    <tr>\n",
       "      <th>FGA0168</th>\n",
       "    </tr>\n",
       "    <tr>\n",
       "      <th>MAT0024</th>\n",
       "    </tr>\n",
       "    <tr>\n",
       "      <th>MAT0030</th>\n",
       "    </tr>\n",
       "  </tbody>\n",
       "</table>\n",
       "</div>"
      ],
      "text/plain": [
       "Empty DataFrame\n",
       "Columns: []\n",
       "Index: [FGA0161, FGA0162, FGA0168, MAT0024, MAT0030]"
      ]
     },
     "execution_count": 214,
     "metadata": {},
     "output_type": "execute_result"
    }
   ],
   "source": [
    "est = table.set_index('IDDisciplina')\n",
    "\n",
    "est.head()"
   ]
  },
  {
   "cell_type": "code",
   "execution_count": 216,
   "metadata": {},
   "outputs": [
    {
     "name": "stdout",
     "output_type": "stream",
     "text": [
      "['FGA0161', 'FGA0162', 'FGA0168', 'MAT0024', 'MAT0030', 'FGA0157', 'FGA0254', 'IFD0171', 'IFD0173', 'MAT0026', 'FGA0008', 'FGA0133', 'FGA0153', 'FGA0160', 'IQD0125', 'IQD0126', 'MAT0027', 'ENM0080', 'FGA0150', 'FGA0178', 'ENM0068', 'FGA0204', 'ENM0071', 'FGA0038', 'FGA0164', 'FGA0184', 'FGA0197', 'FGA0039', 'FGA0043', 'FGA0045', 'FGA0148', 'FGA0048', 'FGA0050', 'FGA0250', 'FGA0009', 'FGA0021', 'FGA0011', 'FGA0161', 'FGA0163', 'FGA0168', 'MAT0025', 'MAT0031', 'FGA0157', 'FGA0254', 'IFD0171', 'IFD0173', 'MAT0026', 'FGA0008', 'FGA0133', 'FGA0154', 'FGA0160', 'IQD0125', 'IQD0126', 'MAT0027', 'ENM0080', 'FGA0150', 'FGA0179', 'ENM0068', 'FGA0204', 'ENM0071', 'FGA0038', 'FGA0164', 'FGA0184', 'FGA0197', 'FGA0039', 'FGA0043', 'FGA0045', 'FGA0148', 'FGA0048', 'FGA0050', 'FGA0250', 'FGA0009', 'FGA0021', 'FGA0011', 'FGA0161', 'FGA0162', 'FGA0168', 'MAT0024', 'FGA0157', 'IFD0171', 'IFD0173', 'MAT0026', 'MAT0030', 'FGA0153', 'FGA0155', 'FGA0160', 'MAT0027', 'ENM0080', 'FGA0133', 'FGA0144', 'FGA0150', 'FGA0151', 'FGA0164', 'FGA0178', 'FGA0184', 'FGA0187', 'FGA0188', 'FGA0148', 'FGA0189', 'FGA0191', 'FGA0227', 'FGA0229', 'FGA0231', 'FGA0250', 'FGA0009', 'FGA0021', 'FGA0011', 'FGA0161', 'FGA0162', 'FGA0168', 'MAT0024', 'FGA0157', 'IFD0171', 'IFD0173', 'MAT0026', 'MAT0030', 'FGA0153', 'FGA0155', 'FGA0160', 'MAT0027', 'ENM0080', 'FGA0133', 'FGA0144', 'FGA0150', 'FGA0151', 'FGA0164', 'FGA0178', 'FGA0184', 'FGA0188', 'FGA0148', 'FGA0189', 'FGA0191', 'FGA0227', 'FGA0229', 'FGA0231', 'FGA0250', 'FGA0009', 'FGA0021', 'FGA0011', 'FGA0161', 'FGA0162', 'FGA0168', 'MAT0024', 'FGA0157', 'IFD0171', 'IFD0173', 'MAT0026', 'MAT0031', 'FGA0153', 'FGA0155', 'FGA0160', 'MAT0027', 'ENM0080', 'FGA0133', 'FGA0144', 'FGA0150', 'FGA0152', 'FGA0164', 'FGA0178', 'FGA0184', 'FGA0188', 'FGA0148', 'FGA0189', 'FGA0191', 'FGA0227', 'FGA0229', 'FGA0231', 'FGA0250', 'FGA0009', 'FGA0021', 'FGA0011', 'FGA0161', 'FGA0162', 'FGA0168', 'MAT0024', 'FGA0157', 'IFD0171', 'IFD0173', 'MAT0026', 'MAT0031', 'FGA0153', 'FGA0155', 'FGA0160', 'MAT0027', 'ENM0080', 'FGA0133', 'FGA0150', 'FGA0152', 'FGA0164', 'FGA0144', 'FGA0178', 'FGA0184', 'FGA0188', 'FGA0148', 'FGA0189', 'FGA0191', 'FGA0227', 'FGA0229', 'FGA0231', 'FGA0250', 'FGA0009', 'FGA0021', 'FGA0011', 'FGA0161', 'FGA0163', 'FGA0168', 'MAT0025', 'FGA0157', 'IFD0171', 'IFD0173', 'MAT0026', 'MAT0031', 'FGA0090', 'FGA0107', 'FGA0154', 'FGA0155', 'FGA0160', 'MAT0027', 'ENM0080', 'FGA0067', 'FGA0069', 'FGA0133', 'FGA0150', 'FGA0152', 'FGA0164', 'FGA0102', 'FGA0179', 'FGA0184', 'FGA0188', 'FGA0023', 'FGA0076', 'FGA0148', 'FGA0190', 'FGA0191', 'FGA0193', 'FGA0226', 'FGA0228', 'FGA0230', 'FGA0266', 'FGA0229', 'FGA0250', 'FGA0267', 'FGA0009', 'FGA0021', 'FGA0011', 'FGA0161', 'FGA0162', 'FGA0168', 'MAT0024', 'FGA0133', 'FGA0157', 'IFD0171', 'IFD0173', 'MAT0026', 'MAT0030', 'FGA0153', 'FGA0160', 'FGA0184', 'MAT0027', 'ENM0080', 'FGA0144', 'FGA0150', 'FGA0148', 'FGA0164', 'FGA0250', 'FGA0009', 'FGA0021', 'FGA0011', 'FGA0161', 'FGA0162', 'FGA0168', 'MAT0024', 'FGA0133', 'FGA0157', 'IFD0171', 'IFD0173', 'MAT0026', 'MAT0030', 'FGA0153', 'FGA0160', 'FGA0184', 'MAT0027', 'ENM0080', 'FGA0144', 'FGA0150', 'FGA0148', 'FGA0164', 'FGA0250', 'FGA0009', 'FGA0021', 'FGA0011', 'FGA0161', 'FGA0162', 'FGA0168', 'MAT0025', 'FGA0133', 'FGA0157', 'IFD0171', 'IFD0173', 'MAT0026', 'MAT0031', 'FGA0153', 'FGA0160', 'FGA0184', 'MAT0027', 'ENM0080', 'FGA0144', 'FGA0150', 'FGA0148', 'FGA0164', 'FGA0250', 'FGA0009', 'FGA0021', 'FGA0011', 'FGA0161', 'FGA0163', 'FGA0168', 'MAT0025', 'FGA0133', 'FGA0157', 'IFD0171', 'IFD0173', 'MAT0026', 'MAT0031', 'FGA0154', 'FGA0160', 'MAT0027', 'ENM0080', 'FGA0067', 'FGA0069', 'FGA0150', 'FGA0096', 'FGA0102', 'FGA0068', 'FGA0070', 'FGA0092', 'FGA0093', 'FGA0164', 'FGA0184', 'FGA0017', 'FGA0103', 'FGA0132', 'FGA0148', 'FGA0219', 'FGA0098', 'FGA0099', 'FGA0250', 'FGA0009', 'FGA0021', 'FGA0011', 'FGA0161', 'FGA0162', 'FGA0168', 'MAT0024', 'FGA0157', 'IFD0171', 'IFD0173', 'MAT0026', 'MAT0030', 'FGA0133', 'FGA0140', 'FGA0153', 'FGA0160', 'MAT0027', 'ENM0080', 'FGA0144', 'FGA0150', 'ENM0068', 'FGA0164', 'FGA0204', 'ENM0071', 'FGA0148', 'FGA0184', 'FGA0250', 'FGA0009', 'FGA0021', 'FGA0011', 'FGA0161', 'FGA0162', 'FGA0168', 'MAT0024', 'FGA0157', 'IFD0171', 'IFD0173', 'MAT0026', 'MAT0030', 'FGA0133', 'FGA0140', 'FGA0153', 'FGA0160', 'MAT0027', 'ENM0080', 'FGA0144', 'FGA0150', 'ENM0068', 'FGA0164', 'FGA0204', 'ENM0071', 'FGA0148', 'FGA0184', 'FGA0250', 'FGA0009', 'FGA0021', 'FGA0011', 'FGA0161', 'FGA0162', 'FGA0168', 'MAT0025', 'FGA0157', 'IFD0171', 'IFD0173', 'MAT0026', 'MAT0031', 'FGA0133', 'FGA0140', 'FGA0153', 'FGA0160', 'MAT0027', 'ENM0080', 'FGA0144', 'FGA0150', 'ENM0068', 'FGA0164', 'FGA0204', 'ENM0071', 'FGA0148', 'FGA0184', 'FGA0250', 'FGA0009', 'FGA0021', 'FGA0011', 'FGA0161', 'FGA0163', 'FGA0168', 'MAT0025', 'FGA0157', 'IFD0171', 'IFD0173', 'MAT0031', 'FGA0133', 'FGA0154', 'FGA0160', 'ENM0080', 'FGA0067', 'FGA0069', 'FGA0104', 'FGA0150', 'ENM0068', 'FGA0102', 'FGA0164', 'FGA0175', 'FGA0204', 'ENM0071', 'FGA0148', 'FGA0184', 'FGA0025', 'FGA0262', 'FGA0265', 'FGA0141', 'FGA0250', 'FGA0252', 'FGA0009', 'FGA0021', 'FGA0011', 'FGA0161', 'FGA0162', 'FGA0168', 'MAT0024', 'FGA0157', 'IFD0171', 'IFD0173', 'MAT0026', 'MAT0030', 'FGA0153', 'FGA0160', 'MAT0027', 'ENE0277', 'FGA0008', 'FGA0009', 'FGA0143', 'FGA0144', 'FGA0148', 'FGA0164', 'FGA0184', 'FGA0161', 'FGA0163', 'FGA0168', 'MAT0025', 'FGA0157', 'IFD0171', 'IFD0173', 'MAT0026', 'MAT0031', 'FGA0154', 'FGA0160', 'MAT0027', 'ENE0277', 'FGA0008', 'FGA0009', 'FGA0144', 'FGA0148', 'FGA0164', 'FGA0184', 'FGA0161', 'FGA0168', 'MAT0024', 'FGA0133', 'FGA0157', 'IFD0171', 'IFD0173', 'MAT0026', 'MAT0031', 'FGA0158', 'FGA0160', 'FGA0164', 'FGA0184', 'FGA0135', 'FGA0138', 'FGA0145', 'FGA0150', 'FGA0172', 'FGA0173', 'FGA0205', 'FGA0207', 'FGA0209', 'FGA0237', 'FGA0239', 'FGA0245', 'FGA0273', 'FGA0250', 'FGA0274', 'FGA0009', 'FGA0021', 'FGA0011', 'FGA0161', 'FGA0163', 'FGA0168', 'MAT0025', 'FGA0157', 'IFD0171', 'IFD0173', 'MAT0026', 'MAT0031', 'FGA0133', 'FGA0158', 'FGA0160', 'FGA0164', 'FGA0108', 'FGA0138', 'FGA0142', 'FGA0147', 'FGA0150', 'FGA0184', 'FGA0003', 'FGA0030', 'FGA0137', 'FGA0170', 'FGA0172', 'FGA0173', 'FGA0060', 'FGA0208', 'FGA0211', 'FGA0238', 'FGA0278', 'FGA0109', 'FGA0210', 'FGA0244', 'FGA0021', 'FGA0206', 'FGA0240', 'FGA0009', 'FGA0250', 'FGA0011']\n"
     ]
    }
   ],
   "source": [
    "dis = []\n",
    "i = 0\n",
    "\n",
    "while(i < len(est)):\n",
    "    dis.append(est.index[i])\n",
    "    i += 1\n",
    "    \n",
    "print(dis)"
   ]
  },
  {
   "cell_type": "code",
   "execution_count": null,
   "metadata": {},
   "outputs": [],
   "source": []
  },
  {
   "cell_type": "code",
   "execution_count": 194,
   "metadata": {},
   "outputs": [
    {
     "data": {
      "text/html": [
       "<div>\n",
       "<style scoped>\n",
       "    .dataframe tbody tr th:only-of-type {\n",
       "        vertical-align: middle;\n",
       "    }\n",
       "\n",
       "    .dataframe tbody tr th {\n",
       "        vertical-align: top;\n",
       "    }\n",
       "\n",
       "    .dataframe thead th {\n",
       "        text-align: right;\n",
       "    }\n",
       "</style>\n",
       "<table border=\"1\" class=\"dataframe\">\n",
       "  <thead>\n",
       "    <tr style=\"text-align: right;\">\n",
       "      <th></th>\n",
       "      <th>IDEstudante</th>\n",
       "    </tr>\n",
       "  </thead>\n",
       "  <tbody>\n",
       "    <tr>\n",
       "      <th>0</th>\n",
       "      <td>27990</td>\n",
       "    </tr>\n",
       "  </tbody>\n",
       "</table>\n",
       "</div>"
      ],
      "text/plain": [
       "   IDEstudante\n",
       "0        27990"
      ]
     },
     "execution_count": 194,
     "metadata": {},
     "output_type": "execute_result"
    }
   ],
   "source": [
    "id_estudante = pd.DataFrame({'IDEstudante': arr_est})\n",
    "\n",
    "id_estudante.head()\n"
   ]
  },
  {
   "cell_type": "code",
   "execution_count": 223,
   "metadata": {},
   "outputs": [],
   "source": [
    "with open('dados_industriais_escrito.csv', 'w', newline='') as file:\n",
    "    writer = csv.writer(file)\n",
    "    for j in dis:\n",
    "        writer.writerow(['IDEstudante', j])\n"
   ]
  },
  {
   "cell_type": "code",
   "execution_count": 8,
   "metadata": {},
   "outputs": [
    {
     "data": {
      "image/png": "[encoded data removed]",
      "text/plain": [
       "<Figure size 2160x1440 with 9 Axes>"
      ]
     },
     "metadata": {
      "needs_background": "light"
     },
     "output_type": "display_data"
    }
   ],
   "source": [
    "fig, ax = plt.subplots(1,9,figsize=(30,20))\n",
    "\n",
    "aero_fluxo20121.plot(x='Matriculas',y='Ingresso',kind='scatter',ax = ax[0],title='Engenharia Aeroespacial - 20121')\n",
    "\n",
    "auto_fluxo20082.plot(x='Matriculas',y='Ingresso',kind='scatter',ax = ax[1],title='Engenharia Automotiva - 20082')\n",
    "auto_fluxo20172.plot(x='Matriculas',y='Ingresso',kind='scatter',ax = ax[2],title='Engenharia Automotiva - 20172')\n",
    "\n",
    "ener_fluxo20082.plot(x='Matriculas',y='Ingresso',kind='scatter',ax = ax[3],title='Engenharia de Energia - 20082')\n",
    "ener_fluxo20162.plot(x='Matriculas',y='Ingresso',kind='scatter',ax = ax[4],title='Engenharia de Energia - 20162')\n",
    "\n",
    "softw_fluxo20082.plot(x='Matriculas',y='Ingresso',kind='scatter',ax = ax[5],title='Engenharia de Software - 20082')\n",
    "softw_fluxo20171.plot(x='Matriculas',y='Ingresso',kind='scatter',ax = ax[6],title='Engenharia de Software - 20171')\n",
    "\n",
    "eletr_fluxo20152.plot(x='Matriculas',y='Ingresso',kind='scatter',ax = ax[7],title='Engenharia Eletrônica - 20152')\n",
    "\n",
    "eng_fluxo20082.plot(x='Matriculas',y='Ingresso',kind='scatter',ax = ax[8],title='Engenharias - 20082')\n",
    "\n",
    "plt.tight_layout();"
   ]
  },
  {
   "cell_type": "markdown",
   "metadata": {},
   "source": [
    "# Engenharia Aeroespacial - 20121"
   ]
  },
  {
   "cell_type": "code",
   "execution_count": 9,
   "metadata": {},
   "outputs": [
    {
     "name": "stdout",
     "output_type": "stream",
     "text": [
      "<class 'pandas.core.frame.DataFrame'>\n",
      "Int64Index: 15075 entries, 0 to 15074\n",
      "Data columns (total 6 columns):\n",
      " #   Column        Non-Null Count  Dtype \n",
      "---  ------        --------------  ----- \n",
      " 0   IDFluxo       15075 non-null  object\n",
      " 1   Status        15075 non-null  int64 \n",
      " 2   Matriculas    15075 non-null  int64 \n",
      " 3   Ingresso      15075 non-null  object\n",
      " 4   IDDisciplina  15075 non-null  object\n",
      " 5   IDEstudante   15075 non-null  int64 \n",
      "dtypes: int64(3), object(3)\n",
      "memory usage: 824.4+ KB\n"
     ]
    }
   ],
   "source": [
    "aero_fluxo20121.info()"
   ]
  },
  {
   "cell_type": "code",
   "execution_count": 117,
   "metadata": {},
   "outputs": [
    {
     "data": {
      "text/plain": [
       "IDFluxo         0\n",
       "Status          0\n",
       "Matriculas      0\n",
       "Ingresso        0\n",
       "IDDisciplina    0\n",
       "IDEstudante     0\n",
       "dtype: int64"
      ]
     },
     "execution_count": 117,
     "metadata": {},
     "output_type": "execute_result"
    }
   ],
   "source": [
    "aero_fluxo20121.isna().sum()"
   ]
  },
  {
   "cell_type": "code",
   "execution_count": 10,
   "metadata": {},
   "outputs": [
    {
     "data": {
      "text/plain": [
       "0        2011/1\n",
       "1        2011/1\n",
       "2        2011/1\n",
       "3        2011/1\n",
       "4        2011/1\n",
       "          ...  \n",
       "15070    2021/1\n",
       "15071    2021/1\n",
       "15072    2021/1\n",
       "15073    2021/1\n",
       "15074    2021/1\n",
       "Name: Ingresso, Length: 15075, dtype: object"
      ]
     },
     "execution_count": 10,
     "metadata": {},
     "output_type": "execute_result"
    }
   ],
   "source": [
    "aero_fluxo20121.Ingresso"
   ]
  },
  {
   "cell_type": "code",
   "execution_count": 11,
   "metadata": {},
   "outputs": [],
   "source": [
    "# Armazenando Matrículas e anos de ingresso nas variáveis X e Y\n",
    "\n",
    "X = aero_fluxo20121['Status'].values.reshape(-1, 1)\n",
    "Y = aero_fluxo20121['Matriculas'].values.reshape(-1, 1)"
   ]
  },
  {
   "cell_type": "code",
   "execution_count": 12,
   "metadata": {},
   "outputs": [],
   "source": [
    "from sklearn.model_selection import train_test_split"
   ]
  },
  {
   "cell_type": "code",
   "execution_count": 13,
   "metadata": {},
   "outputs": [],
   "source": [
    "# Separando os valores em amostras de treino e teste, sendo que 30% vai para as amostras de teste e 70% para as amostras de treino\n",
    "\n",
    "X_treino, X_teste, Y_treino, Y_teste = train_test_split(X, Y, test_size=0.30, shuffle=True, random_state=0)"
   ]
  },
  {
   "cell_type": "code",
   "execution_count": 14,
   "metadata": {},
   "outputs": [
    {
     "data": {
      "text/plain": [
       "10552"
      ]
     },
     "execution_count": 14,
     "metadata": {},
     "output_type": "execute_result"
    }
   ],
   "source": [
    "X_treino.size"
   ]
  },
  {
   "cell_type": "code",
   "execution_count": 15,
   "metadata": {},
   "outputs": [
    {
     "data": {
      "text/plain": [
       "4523"
      ]
     },
     "execution_count": 15,
     "metadata": {},
     "output_type": "execute_result"
    }
   ],
   "source": [
    "X_teste.size"
   ]
  },
  {
   "cell_type": "code",
   "execution_count": 16,
   "metadata": {},
   "outputs": [],
   "source": [
    "# Importando biblioteca de Regrssão Linear\n",
    "\n",
    "from sklearn.linear_model import LinearRegression"
   ]
  },
  {
   "cell_type": "code",
   "execution_count": 17,
   "metadata": {},
   "outputs": [],
   "source": [
    "modelo = LinearRegression()"
   ]
  },
  {
   "cell_type": "code",
   "execution_count": 18,
   "metadata": {},
   "outputs": [
    {
     "data": {
      "text/plain": [
       "LinearRegression()"
      ]
     },
     "execution_count": 18,
     "metadata": {},
     "output_type": "execute_result"
    }
   ],
   "source": [
    "modelo.fit(X_treino,Y_treino)"
   ]
  },
  {
   "cell_type": "code",
   "execution_count": 19,
   "metadata": {},
   "outputs": [],
   "source": [
    "Y_previsto = modelo.predict(X_teste)"
   ]
  },
  {
   "cell_type": "code",
   "execution_count": 20,
   "metadata": {},
   "outputs": [
    {
     "data": {
      "text/plain": [
       "<matplotlib.legend.Legend at 0x28c2892e0a0>"
      ]
     },
     "execution_count": 20,
     "metadata": {},
     "output_type": "execute_result"
    },
    {
     "data": {
      "image/png": "[encoded data removed]",
      "text/plain": [
       "<Figure size 432x288 with 1 Axes>"
      ]
     },
     "metadata": {
      "needs_background": "light"
     },
     "output_type": "display_data"
    }
   ],
   "source": [
    "plt.scatter(X_teste,Y_teste,color='blue',label='Valores reais')\n",
    "plt.scatter(X_teste,Y_previsto,color='red',label='Valores previstos')\n",
    "plt.xlabel('Status')\n",
    "plt.ylabel('Matrículas')\n",
    "plt.legend(loc='best')"
   ]
  },
  {
   "cell_type": "code",
   "execution_count": 21,
   "metadata": {},
   "outputs": [],
   "source": [
    "from sklearn.metrics import mean_absolute_error,mean_squared_error"
   ]
  },
  {
   "cell_type": "code",
   "execution_count": 22,
   "metadata": {},
   "outputs": [],
   "source": [
    "MAE_matXstatus = mean_absolute_error(Y_teste,Y_previsto)\n",
    "RMSE_atXstatus = np.sqrt(mean_squared_error(Y_teste,Y_previsto))"
   ]
  },
  {
   "cell_type": "code",
   "execution_count": 23,
   "metadata": {},
   "outputs": [
    {
     "name": "stdout",
     "output_type": "stream",
     "text": [
      "MAE = 0.2873\n",
      "RMSE = 0.4724\n"
     ]
    }
   ],
   "source": [
    "print('MAE = {:0.4f}'.format(MAE_matXstatus))\n",
    "print('RMSE = {:0.4f}'.format(RMSE_atXstatus))"
   ]
  }
 ],
 "metadata": {
  "interpreter": {
   "hash": "4878c5af8442f6d62d82bd60ce0a53d54d354dddd21c1714487e85310ebc031f"
  },
  "kernelspec": {
   "display_name": "Python 3.8.8 64-bit ('base': conda)",
   "language": "python",
   "name": "python3"
  },
  "language_info": {
   "codemirror_mode": {
    "name": "ipython",
    "version": 3
   },
   "file_extension": ".py",
   "mimetype": "text/x-python",
   "name": "python",
   "nbconvert_exporter": "python",
   "pygments_lexer": "ipython3",
   "version": "3.9.7"
  },
  "orig_nbformat": 2
 },
 "nbformat": 4,
 "nbformat_minor": 2
}
